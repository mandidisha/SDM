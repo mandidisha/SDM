{
 "cells": [
  {
   "cell_type": "code",
   "execution_count": null,
   "metadata": {},
   "outputs": [],
   "source": []
  },
  {
   "cell_type": "markdown",
   "metadata": {},
   "source": [
    "# Name: Ruta Misghina Gebremedhin\n",
    "# ID: 500959486"
   ]
  },
  {
   "cell_type": "markdown",
   "metadata": {},
   "source": [
    "<div style=\"text-align:center; background: linear-gradient(to top right, #222, #000); padding: 20px; color:rgba(229, 9, 9, 0.78);\">\n",
    "    <h1 style=\"font-weight: bold; font-size: 50px;\">SVD++ Recommender System </h1>\n",
    "</div>\n"
   ]
  },
  {
   "cell_type": "markdown",
   "metadata": {},
   "source": [
    "In the notebook, we developed an SVD++ recommender system using MovieLens datasets. SVD++ is an advanced matrix factorization algorithm that improves upon standard SVD by incorporating implicit feedback—such as whether a user interacted with an item, even without rating it. This allows the model to better capture user preferences by factoring in both explicit ratings and underlying behavioral signals, making it especially effective in real-world recommendation scenarios with sparse data."
   ]
  },
  {
   "cell_type": "markdown",
   "metadata": {},
   "source": [
    "<div style=\"text-align:center; background: linear-gradient(to top right, #222, #000); padding: 15px; color:rgba(229, 9, 9, 0.66);\">\n",
    "    <h1 style=\"font-weight: bold; font-size: 36px;\">0. Importing Packages and Libraries</h1>\n",
    "</div>\n"
   ]
  },
  {
   "cell_type": "code",
   "execution_count": 1,
   "metadata": {},
   "outputs": [],
   "source": [
    "import numpy as np\n",
    "import pandas as pd\n",
    "from sklearn.model_selection import train_test_split\n",
    "from sklearn.model_selection import cross_val_score\n",
    "\n",
    "import matplotlib.pyplot as plt\n",
    "from datetime import datetime, timedelta\n"
   ]
  },
  {
   "cell_type": "markdown",
   "metadata": {},
   "source": [
    "<div style=\"text-align:center; background: linear-gradient(to top right, #222, #000); padding: 15px; color:rgba(229, 9, 9, 0.64);\">\n",
    "    <h1 style=\"font-weight: bold; font-size: 36px;\">1.SVD++ using Netflix Dataset  </h1>\n",
    "</div>\n"
   ]
  },
  {
   "cell_type": "markdown",
   "metadata": {},
   "source": [
    "<div style=\"text-align:center; background: linear-gradient(to top right, #222, #000); padding: 15px; color:\n",
    "rgba(151, 9, 9, 0.75);\">\n",
    "    <h1 style=\"font-weight: bold; font-size: 36px;\">1.1 Preparing Set/Sample</h1>\n",
    "</div>"
   ]
  },
  {
   "cell_type": "markdown",
   "metadata": {},
   "source": [
    "Function to load the Movielens Dataset"
   ]
  },
  {
   "cell_type": "code",
   "execution_count": 2,
   "metadata": {},
   "outputs": [],
   "source": [
    "def loadData(path):\n",
    "    # Read as normal CSV (not \"::\" separated)\n",
    "    df = pd.read_csv(path)\n",
    "\n",
    "    # Rename to match standard format\n",
    "    df = df.rename(columns={\n",
    "        'CustomerID': 'user_id',\n",
    "        'MovieID': 'item_id',\n",
    "        'Rating': 'rating',\n",
    "        'Date': 'timestamp'\n",
    "    })\n",
    "\n",
    "    # Keep only these four columns\n",
    "    df = df[['user_id', 'item_id', 'rating', 'timestamp']]\n",
    "\n",
    "    n_users = df['user_id'].nunique()\n",
    "    n_items = df['item_id'].nunique()\n",
    "\n",
    "    return df, n_users, n_items\n"
   ]
  },
  {
   "cell_type": "code",
   "execution_count": null,
   "metadata": {},
   "outputs": [],
   "source": [
    "df, n_users, n_items = loadData(r'C:\\Users\\RUTA\\Desktop\\masters of digital driven bussines\\SDM\\SDM assigment\\New folder\\netflex\\training_data.csv')"
   ]
  },
  {
   "cell_type": "markdown",
   "metadata": {},
   "source": [
    "To ensure that the model has enough data to learn meaningful preferences:\n",
    "- We **remove users** with fewer than 5 ratings because they don't provide enough signal to learn a reliable latent user vector.\n",
    "- We **remove items** (movies) with fewer than 5 ratings because these are too rarely rated to generate meaningful latent features, increasing the risk of overfitting or noise."
   ]
  },
  {
   "cell_type": "code",
   "execution_count": 4,
   "metadata": {},
   "outputs": [],
   "source": [
    "# Filtering Out Inactive Users (Users with <5 ratings)\n",
    "df = df[df[\"user_id\"].map(df[\"user_id\"].value_counts()) >= 5]\n",
    "\n",
    "# Removing Rarely Rated Items (Movies with <5 ratings)\n",
    "df = df[df[\"item_id\"].map(df[\"item_id\"].value_counts()) >= 5]\n"
   ]
  },
  {
   "cell_type": "markdown",
   "metadata": {},
   "source": [
    "SVD++ can be computationally intensive on large datasets like Netflix.\n",
    "To make experimentation faster and resource-efficient, we reduce the dataset size through **stratified sampling**:\n",
    "- Rather than random sampling, we stratify based on the number of ratings per user to maintain the **distribution of user activity levels**.\n",
    "- This ensures that the sampled dataset is still **representative** of the full dataset's user behavior patterns, which is critical for fair model evaluation. \n",
    "how we did the sampling is, We first measure user activity by counting how many ratings each user has given. Users are then grouped based on their activity level — active users (many ratings) and less active users (few ratings) are treated separately. During sampling, we preserve the original proportion of active and inactive users, ensuring that heavy raters remain equally represented. This maintains the natural rating patterns across popular and niche items. As a result, we obtain a much smaller, yet statistically representative dataset that allows faster model training without compromising behavioral realism.\n",
    "\n",
    "\n",
    "This approach balances **efficiency** with **data integrity**, allowing quicker model iteration without compromising too much on performance fidelity."
   ]
  },
  {
   "cell_type": "code",
   "execution_count": 5,
   "metadata": {},
   "outputs": [
    {
     "name": "stdout",
     "output_type": "stream",
     "text": [
      "Original dataset size: 23889809, Sampled dataset size: 238898\n"
     ]
    }
   ],
   "source": [
    "from sklearn.model_selection import train_test_split\n",
    "\n",
    "def stratified_sampling(df, sample_frac=0.01):\n",
    "    \"\"\"\n",
    "    Performs stratified sampling to reduce dataset size while maintaining\n",
    "    proportional representation of user activity levels.\n",
    "    \n",
    "    - `sample_frac`: Fraction of the dataset to keep (e.g., 0.1 for 10%)\n",
    "    \"\"\"\n",
    "    # Step 1: Count number of ratings per user\n",
    "    user_counts = df[\"user_id\"].value_counts()\n",
    "\n",
    "    # Step 2: Create a temporary column for stratification\n",
    "    df[\"user_rating_count\"] = df[\"user_id\"].map(user_counts)\n",
    "\n",
    "    # Step 3: Apply stratified sampling\n",
    "    df_sampled, _ = train_test_split(df, test_size=(1 - sample_frac), stratify=df[\"user_rating_count\"], random_state=42)\n",
    "\n",
    "    # Step 4: Drop the temporary column\n",
    "    df_sampled = df_sampled.drop(columns=[\"user_rating_count\"])\n",
    "\n",
    "    return df_sampled\n",
    "\n",
    "# Apply stratified sampling (reduce dataset to 10%)\n",
    "df_sampled = stratified_sampling(df, sample_frac=0.01)\n",
    "\n",
    "# Print dataset sizes\n",
    "print(f\"Original dataset size: {len(df)}, Sampled dataset size: {len(df_sampled)}\")\n"
   ]
  },
  {
   "cell_type": "code",
   "execution_count": 6,
   "metadata": {},
   "outputs": [
    {
     "name": "stdout",
     "output_type": "stream",
     "text": [
      " Before Sampling: Users = 405540, Items = 4498\n",
      " After Sampling: Users = 141095, Items = 4120\n"
     ]
    }
   ],
   "source": [
    "# Count before sampling\n",
    "num_users_before = df[\"user_id\"].nunique()\n",
    "num_items_before = df[\"item_id\"].nunique()\n",
    "# Count after sampling\n",
    "num_users_after = df_sampled[\"user_id\"].nunique()\n",
    "num_items_after = df_sampled[\"item_id\"].nunique()\n",
    "\n",
    "# Print results\n",
    "print(f\" Before Sampling: Users = {num_users_before}, Items = {num_items_before}\")\n",
    "print(f\" After Sampling: Users = {num_users_after}, Items = {num_items_after}\")"
   ]
  },
  {
   "cell_type": "markdown",
   "metadata": {},
   "source": [
    "This function Splits the user-item matrix into train, validation, and test sets based on timestamp order. Ensures each user’s ratings are chronologically segmented (oldest 60% train, next 20% val, latest 20% test). Prevents data leakage by mimicking real-world temporal interactions. Crucial for time-aware recommendation evaluation."
   ]
  },
  {
   "cell_type": "code",
   "execution_count": 7,
   "metadata": {},
   "outputs": [],
   "source": [
    "\n",
    "# --------------------------- TIME-AWARE SPLITTING --------------------------- #\n",
    "def time_aware_split(df):\n",
    "   # df[\"timestamp\"] = pd.to_datetime(df[\"timestamp\"], unit='s')\n",
    "    user_item_matrix = df.pivot(index=\"user_id\", columns=\"item_id\", values=\"rating\")\n",
    "    timestamp_matrix = df.pivot(index=\"user_id\", columns=\"item_id\", values=\"timestamp\")\n",
    "\n",
    "    train_matrix = user_item_matrix.copy(); train_matrix.loc[:, :] = np.nan\n",
    "    val_matrix = user_item_matrix.copy(); val_matrix.loc[:, :] = np.nan\n",
    "    test_matrix = user_item_matrix.copy(); test_matrix.loc[:, :] = np.nan\n",
    "\n",
    "    for user in user_item_matrix.index:\n",
    "        rated_items = user_item_matrix.loc[user].dropna().index\n",
    "        timestamps = timestamp_matrix.loc[user, rated_items]\n",
    "        sorted_items = timestamps.sort_values().index.tolist()\n",
    "        n = len(sorted_items)\n",
    "\n",
    "        if n < 5:\n",
    "            continue  # not enough ratings to split meaningfully\n",
    "\n",
    "        train_end = int(0.6 * n)\n",
    "        val_end = int(0.8 * n)\n",
    "\n",
    "        train_items = sorted_items[:train_end]\n",
    "        val_items = sorted_items[train_end:val_end]\n",
    "        test_items = sorted_items[val_end:]\n",
    "\n",
    "        train_matrix.loc[user, train_items] = user_item_matrix.loc[user, train_items]\n",
    "        val_matrix.loc[user, val_items] = user_item_matrix.loc[user, val_items]\n",
    "        test_matrix.loc[user, test_items] = user_item_matrix.loc[user, test_items]\n",
    "\n",
    "    return train_matrix, val_matrix, test_matrix\n",
    "\n"
   ]
  },
  {
   "cell_type": "code",
   "execution_count": 8,
   "metadata": {},
   "outputs": [],
   "source": [
    "def index_matrix(matrix):\n",
    "    \"\"\"\n",
    "    Converts a rating matrix into a binary indicator matrix (mask).\n",
    "    Parameters:\n",
    "        matrix (ndarray): Original user-item rating matrix.\n",
    "    Returns:\n",
    "        ndarray: Binary matrix where 1 = rated, 0 = not rated.\n",
    "    Used to mask non-rated entries when computing evaluation metrics like RMSE.\n",
    "    \"\"\"\n",
    "    I = matrix.copy()\n",
    "    I[I > 0] = 1\n",
    "    I[I == 0] = 0\n",
    "    return I\n",
    "\n",
    "\n",
    "def prediction(P, Q):\n",
    "    \"\"\"\n",
    "    Computes the dot product between user and item latent vectors.\n",
    "    Parameters:\n",
    "        P (ndarray): User latent factor matrix (factors x users).\n",
    "        Q (ndarray): Item latent factor matrix (factors x items).\n",
    "    Returns:\n",
    "        float: Predicted rating for a user-item pair.\n",
    "    Core of the SVD prediction mechanism.\n",
    "    \"\"\"\n",
    "    return np.dot(P.T, Q)\n",
    "\n",
    "\n",
    "def rmse(I, R, item_by_users, avg, Q, P, Y, B_U, B_I):\n",
    "    \"\"\"\n",
    "    Computes Root Mean Squared Error for SVD++ predictions.\n",
    "    Parameters:\n",
    "        I (ndarray): Binary matrix indicating rated entries.\n",
    "        R (ndarray): Actual rating matrix.\n",
    "        item_by_users (dict): Maps user index to list of rated item indices.\n",
    "        avg (float): Global average rating.\n",
    "        Q (ndarray): Item latent factor matrix.\n",
    "        P (ndarray): User latent factor matrix.\n",
    "        Y (ndarray): Implicit feedback latent matrix for items.\n",
    "        B_U (ndarray): User bias vector.\n",
    "        B_I (ndarray): Item bias vector.\n",
    "    Returns:\n",
    "        float: RMSE across all rated entries.\n",
    "    \"\"\"\n",
    "    users, items = R.nonzero()\n",
    "    error_sum = 0\n",
    "    count = 0\n",
    "    for u, i in zip(users, items):\n",
    "        n_u = len(item_by_users.get(u, []))\n",
    "        if n_u == 0:\n",
    "            continue\n",
    "        # Compute p + implicit feedback from items user interacted with\n",
    "        pPlusY = P[:, u] + (1 / np.sqrt(n_u)) * np.sum(Y[item_by_users[u]], axis=0)\n",
    "        pred = avg + B_U[u] + B_I[i] + prediction(pPlusY, Q[:, i])\n",
    "        err = R[u, i] - pred\n",
    "        error_sum += err ** 2\n",
    "        count += 1\n",
    "    return np.sqrt(error_sum / count) if count > 0 else np.nan\n",
    "\n",
    "\n",
    "def plot_learning_curve(train_errors, val_errors, best_params):\n",
    "    \"\"\"\n",
    "    Plots the RMSE learning curves for training and validation sets over epochs.\n",
    "    Parameters:\n",
    "        train_errors (list): RMSE values on training set per epoch.\n",
    "        val_errors (list): RMSE values on validation set per epoch.\n",
    "        best_params (dict): Best hyperparameters used (e.g., factors, gamma, reg).\n",
    "    Visualization tool for monitoring convergence and overfitting.\n",
    "    \"\"\"\n",
    "    plt.figure(figsize=(8, 5))\n",
    "    plt.plot(train_errors, label='Train RMSE')\n",
    "    plt.plot(val_errors, label='Val RMSE')\n",
    "    plt.title(f\"Learning Curve (f={best_params['factors']}, γ={best_params['gamma']}, λ={best_params['reg']})\")\n",
    "    plt.xlabel(\"Epoch\")\n",
    "    plt.ylabel(\"RMSE\")\n",
    "    plt.legend()\n",
    "    plt.grid()\n",
    "    plt.tight_layout()\n",
    "    plt.show()\n"
   ]
  },
  {
   "cell_type": "markdown",
   "metadata": {},
   "source": [
    "<div style=\"text-align:center; background: linear-gradient(to top right, #222, #000); padding: 15px; color:rgba(229, 9, 9, 0.61);\">\n",
    "    <h1 style=\"font-weight: bold; font-size: 36px;\">1.3 Implicit Feedback Addition</h1>\n",
    "</div>\n",
    "\n"
   ]
  },
  {
   "cell_type": "markdown",
   "metadata": {},
   "source": [
    "## Integrating Explicit and Implicit Feedback in Recommender Systems\n",
    "\n",
    "As stated earlier, a key goal of this work is to develop models that integrate both **explicit and implicit user feedback**.  \n",
    "In datasets like Movielens Netflix, the ideal implicit signal would be **movie viewing history**, revealing user preferences without requiring explicit ratings. While such data isn't available, a subtle but useful proxy exists.\n",
    "\n",
    "The dataset not only provides rating values but also shows **which movies users chose to rate**.  \n",
    "This implies the user **watched the movie** and then decided to express an opinion—whether positive or negative.  \n",
    "Conversely, if a user didn’t rate a movie, we can reasonably assume they **did not watch it**.\n",
    "\n",
    "This transforms the ratings matrix into a **binary implicit feedback matrix** where:\n",
    "- `1` = user watched and rated the item  \n",
    "- `0` = user did not watch (and therefore did not rate) the item  \n",
    "\n",
    "Although this form of implicit feedback is limited, it still reflects real interaction behavior.  \n",
    "Incorporating this implicit signal into the model significantly improves prediction accuracy, making it a valuable component in any rating-based recommender system.\n",
    "\n",
    "\n"
   ]
  },
  {
   "cell_type": "markdown",
   "metadata": {},
   "source": [
    "We have implemented our SVD++ recommender system based on the following paper, which formally introduces the mathematical foundations of matrix factorization techniques for recommender systems:\n",
    "\n",
    "> **Yehuda Koren (2008).** *Factorization Meets the Neighborhood: A Multifaceted Collaborative Filtering Model*  \n",
    "> [Link to paper](https://people.engr.tamu.edu/huangrh/Spring16/papers_course/matrix_factorization.pdf)\n",
    "\n",
    "The formula we used in our model aligns with the SVD++ objective function proposed in this paper, incorporating both **explicit ratings** and **implicit feedback** to improve recommendation accuracy.\n",
    "\n",
    "\n",
    "The model is trained by minimizing the following regularized loss function:\n",
    "\n",
    "$$\n",
    "\\min_{p_u, q_i, y_j, b_u, b_i} \\sum_{(u,i) \\in \\mathcal{K}} \\left( r_{ui} - \\mu - b_u - b_i - q_i^\\top \\left( p_u + \\frac{1}{\\sqrt{|N(u)|}} \\sum_{j \\in N(u)} y_j \\right) \\right)^2 + \\lambda \\left( \\|p_u\\|^2 + \\|q_i\\|^2 + \\sum_{j \\in N(u)} \\|y_j\\|^2 + b_u^2 + b_i^2 \\right)\n",
    "$$\n",
    "\n",
    "**Where:**\n",
    "- \\( r_{ui} \\): observed rating for user \\( u \\) and item \\( i \\)  \n",
    "- \\( \\mu \\): global average rating  \n",
    "- \\( b_u \\), \\( b_i \\): user and item biases  \n",
    "- \\( p_u \\), \\( q_i \\): user and item latent factor vectors  \n",
    "- \\( y_j \\): implicit feedback vector for item \\( j \\in N(u) \\)  \n",
    "- \\( N(u) \\): set of items rated (watched) by user \\( u \\)  \n",
    "- \\( \\mathcal{K} \\): set of all user–item pairs with known ratings  \n",
    "- \\( \\lambda \\): regularization parameter"
   ]
  },
  {
   "cell_type": "markdown",
   "metadata": {},
   "source": [
    "#### This Function below train_svdpp() is for Training an SVD++ model on explicit ratings while incorporating implicit feedback."
   ]
  },
  {
   "cell_type": "code",
   "execution_count": 9,
   "metadata": {},
   "outputs": [],
   "source": [
    "def train_svdpp(train_matrix, val_matrix, numFactors=20, gamma=0.01, reg=0.1,\n",
    "                num_epochs=100, patience=5, verbose=False):\n",
    "    \"\"\"\n",
    "    Trains an SVD++ model on explicit ratings while incorporating implicit feedback.\n",
    "    \n",
    "    Parameters:\n",
    "        train_matrix (DataFrame): User-item rating matrix for training (with timestamps considered).\n",
    "        val_matrix (DataFrame): Validation matrix for early stopping and performance tracking.\n",
    "        numFactors (int): Number of latent factors for user/item representations.\n",
    "        gamma (float): Learning rate for SGD.\n",
    "        reg (float): Regularization strength to prevent overfitting.\n",
    "        num_epochs (int): Max number of training iterations.\n",
    "        patience (int): Number of epochs to wait for improvement before early stopping.\n",
    "        verbose (bool): Whether to print progress logs.\n",
    "\n",
    "    Returns:\n",
    "        train_errors (list): RMSE per epoch on training set.\n",
    "        val_errors (list): RMSE per epoch on validation set.\n",
    "        best_model (tuple): Tuple of final model parameters (P, Q, Y, B_U, B_I, avg, item_by_users, user_map, item_map).\n",
    "    \"\"\"\n",
    "\n",
    "    # Setup: Extract user/item indices and map to internal IDs\n",
    "    users = train_matrix.index.tolist()\n",
    "    items = train_matrix.columns.tolist()\n",
    "    user_map = {u: i for i, u in enumerate(users)}\n",
    "    item_map = {v: j for j, v in enumerate(items)}\n",
    "    n_users, n_items = len(users), len(items)\n",
    "\n",
    "    # Convert rating matrices to numpy arrays, filling missing ratings with 0\n",
    "    R = train_matrix.fillna(0).values\n",
    "    V = val_matrix.fillna(0).values\n",
    "    avg = R[R > 0].mean()  # Global average rating\n",
    "\n",
    "    # Dictionary: For each user, store the list of items they rated (used for implicit signal)\n",
    "    item_by_users = {u: list(np.where(R[u] > 0)[0]) for u in range(n_users)}\n",
    "\n",
    "    # Create binary indicator masks for evaluation\n",
    "    I = index_matrix(R)\n",
    "    I_val = index_matrix(V)\n",
    "\n",
    "    # Initialize latent factor matrices and bias terms\n",
    "    P = np.random.normal(scale=0.1, size=(numFactors, n_users))   # User factors\n",
    "    Q = np.random.normal(scale=0.1, size=(numFactors, n_items))   # Item factors\n",
    "    Y = np.random.normal(scale=0.1, size=(n_items, numFactors))   # Implicit feedback item factors\n",
    "    B_U = np.zeros(n_users)  # User bias\n",
    "    B_I = np.zeros(n_items)  # Item bias\n",
    "\n",
    "    train_errors = []\n",
    "    val_errors = []\n",
    "    best_val_rmse = float(\"inf\")\n",
    "    best_epoch = 0\n",
    "    best_model_snapshot = None\n",
    "\n",
    "    # ---------- Training Loop ---------- #\n",
    "    for epoch in range(num_epochs):\n",
    "        for u in range(n_users):\n",
    "            for i in item_by_users[u]:\n",
    "                n_u = len(item_by_users[u])\n",
    "                if n_u == 0:\n",
    "                    continue\n",
    "\n",
    "                # Compute user representation: explicit + implicit (Y)\n",
    "                pPlusY = P[:, u] + (1 / np.sqrt(n_u)) * np.sum(Y[item_by_users[u]], axis=0)\n",
    "\n",
    "                # Predict rating and compute error\n",
    "                err = R[u, i] - (avg + B_U[u] + B_I[i] + prediction(pPlusY, Q[:, i]))\n",
    "\n",
    "                # Gradient Descent Updates\n",
    "                P[:, u] += gamma * (err * Q[:, i] - reg * P[:, u])\n",
    "                Q[:, i] += gamma * (err * pPlusY - reg * Q[:, i])\n",
    "                for j in item_by_users[u]:\n",
    "                    Y[j, :] += gamma * (err * (1 / np.sqrt(n_u)) * Q[:, i] - reg * Y[j, :])\n",
    "                B_U[u] += gamma * (err - reg * B_U[u])\n",
    "                B_I[i] += gamma * (err - reg * B_I[i])\n",
    "\n",
    "        # Evaluate model using RMSE\n",
    "        train_rmse = rmse(I, R, item_by_users, avg, Q, P, Y, B_U, B_I)\n",
    "        val_rmse = rmse(I_val, V, item_by_users, avg, Q, P, Y, B_U, B_I)\n",
    "        train_errors.append(train_rmse)\n",
    "        val_errors.append(val_rmse)\n",
    "\n",
    "        # Optional log printing\n",
    "        if verbose:\n",
    "            print(f\"Epoch {epoch+1}/{num_epochs} - Train RMSE: {train_rmse:.4f}, Val RMSE: {val_rmse:.4f}\")\n",
    "\n",
    "        # Early stopping: Track best model snapshot\n",
    "        if val_rmse < best_val_rmse:\n",
    "            best_val_rmse = val_rmse\n",
    "            best_epoch = epoch\n",
    "            best_model_snapshot = (P.copy(), Q.copy(), Y.copy(), B_U.copy(), B_I.copy())\n",
    "        elif epoch - best_epoch >= patience:\n",
    "            if verbose:\n",
    "                print(f\" Early stopping at epoch {epoch+1}\")\n",
    "            break\n",
    "\n",
    "    # Load best-performing model\n",
    "    P, Q, Y, B_U, B_I = best_model_snapshot\n",
    "\n",
    "    return train_errors, val_errors, (P, Q, Y, B_U, B_I, avg, item_by_users, user_map, item_map)\n"
   ]
  },
  {
   "cell_type": "markdown",
   "metadata": {},
   "source": [
    "<div style=\"text-align:center; background: linear-gradient(to top right, #222, #000); padding: 15px; color:rgba(229, 9, 27, 0.54);\">\n",
    "    <h1 style=\"font-weight: bold; font-size: 36px;\">1.4 hyperparameter Tuning</h1>\n",
    "</div>\n",
    "\n"
   ]
  },
  {
   "cell_type": "markdown",
   "metadata": {},
   "source": [
    "This function is used for hyperparameter tuning of the SVD++ model, using time-aware splitting to optimize performance on future data."
   ]
  },
  {
   "cell_type": "code",
   "execution_count": 10,
   "metadata": {},
   "outputs": [],
   "source": [
    "from itertools import product\n",
    "\n",
    "\n",
    "def run_hyperparameter_search(df_sampled):\n",
    "    \"\"\"\n",
    "    Performs grid search over hyperparameters for the SVD++ model using time-aware splitting.\n",
    "    \n",
    "    Parameters:\n",
    "        df_sampled (DataFrame): Preprocessed interaction dataset with columns ['user_id', 'item_id', 'rating', 'timestamp'].\n",
    "    \n",
    "    Returns:\n",
    "        best_model (tuple): Trained model parameters (P, Q, Y, B_U, B_I, avg, item_by_users, user_map, item_map).\n",
    "        train_val_matrix (DataFrame): Combined train and validation matrix used for final test evaluation.\n",
    "    \"\"\"\n",
    "    \n",
    "    # Step 1: Split the data into train, validation, and test using time-aware chronological splitting\n",
    "    print(\"Splitting data...\")\n",
    "    train_matrix, val_matrix, test_matrix = time_aware_split(df_sampled.copy())\n",
    "\n",
    "    # Step 2: Define the hyperparameter search space\n",
    "    factor_list = [10, 20]       # Latent factor dimensions\n",
    "    gamma_list = [0.01, 0.005]       # Learning rates\n",
    "    reg_list = [0.05, 0.1]           # Regularization strengths\n",
    "\n",
    "    # Step 3: Initialize tracking variables for best model\n",
    "    best_score = float(\"inf\")\n",
    "    best_model = None\n",
    "    best_params = {}\n",
    "    best_train_errors = []\n",
    "    best_val_errors = []\n",
    "\n",
    "    # Step 4: Grid search over all (factors, gamma, reg) combinations\n",
    "    for f, g, r in product(factor_list, gamma_list, reg_list):\n",
    "        print(f\"\\n Tuning: numFactors={f}, gamma={g}, reg={r}\")\n",
    "        \n",
    "        # Train SVD++ model with current hyperparameters\n",
    "        train_rmse, val_rmse, model = train_svdpp(train_matrix, val_matrix,\n",
    "                                                  numFactors=f, gamma=g, reg=r,\n",
    "                                                  num_epochs=100, patience=5,\n",
    "                                                  verbose=False)\n",
    "        # Step 5: Track the model with lowest validation RMSE\n",
    "        if val_rmse[-1] < best_score:\n",
    "            best_score = val_rmse[-1]\n",
    "            best_params = {\"factors\": f, \"gamma\": g, \"reg\": r}\n",
    "            best_model = model\n",
    "            best_train_errors = train_rmse\n",
    "            best_val_errors = val_rmse\n",
    "\n",
    "    # Step 6: Report the best parameters and plot the learning curve\n",
    "    print(\"\\n Best Hyperparameters Found:\")\n",
    "    print(best_params)\n",
    "    print(f\"Best Validation RMSE: {best_score:.4f}\")\n",
    "    plot_learning_curve(best_train_errors, best_val_errors, best_params)\n",
    "\n",
    "    # Step 7: Final model evaluation on the test set\n",
    "    print(\"\\n Final Test Evaluation...\")\n",
    "    \n",
    "    # Merge train and validation for final test evaluation\n",
    "    train_val_matrix = train_matrix.combine_first(val_matrix)\n",
    "    \n",
    "    # Prepare test matrix and mask\n",
    "    R_test = test_matrix.fillna(0).values\n",
    "    I_test = index_matrix(R_test)\n",
    "\n",
    "    # Unpack model parameters\n",
    "    P, Q, Y, B_U, B_I, avg, item_by_users, user_map, item_map = best_model\n",
    "\n",
    "    # Evaluate test RMSE\n",
    "    test_rmse = rmse(I_test, R_test, item_by_users, avg, Q, P, Y, B_U, B_I)\n",
    "    print(f\"Final Test RMSE: {test_rmse:.4f}\")\n",
    "\n",
    "    return best_model, train_val_matrix, test_matrix\n",
    "\n"
   ]
  },
  {
   "cell_type": "markdown",
   "metadata": {},
   "source": [
    "<div style=\"text-align:center; background: linear-gradient(to top right, #222, #000); padding: 15px; color:rgba(229, 9, 20, 0.56);\">\n",
    "    <h1 style=\"font-weight: bold; font-size: 36px;\">1.5 Recommender System</h1>\n",
    "</div>\n",
    "\n"
   ]
  },
  {
   "cell_type": "markdown",
   "metadata": {},
   "source": [
    "This function recommends the top-3 movies that a user has not interacted with or rated, meaning they likely haven't watched them. Using a trained SVD++ model, it builds the user's latent profile, predicts ratings for all unseen movies, and returns the top-3 with the highest predicted scores as personalized recommendations."
   ]
  },
  {
   "cell_type": "code",
   "execution_count": 11,
   "metadata": {},
   "outputs": [],
   "source": [
    "def recommend_top3_for_user(user_id, model, train_val_matrix):\n",
    "    \"\"\"\n",
    "    Recommend top-3 movies the user hasn't rated yet, using a trained SVD++ model.\n",
    "    \n",
    "    Args:\n",
    "        user_id (int): Original MovieLens user ID\n",
    "        model (tuple): Trained model returned from train_svdpp(...)\n",
    "        train_val_matrix (pd.DataFrame): Matrix of known ratings (train + val)\n",
    "    \n",
    "    Returns:\n",
    "        List of (item_id, predicted_rating) tuples, top-3 recommendations\n",
    "    \"\"\"\n",
    "    P, Q, Y, B_U, B_I, avg, item_by_users, user_map, item_map = model\n",
    "\n",
    "    if user_id not in user_map:\n",
    "        print(f\"User {user_id} is not in the training data.\")\n",
    "        return []\n",
    "\n",
    "    user_index = user_map[user_id]\n",
    "    n_u = len(item_by_users.get(user_index, []))\n",
    "    if n_u == 0:\n",
    "        print(f\"User {user_id} has no rated items in the training set.\")\n",
    "        return []\n",
    "\n",
    "    # Create user representation vector\n",
    "    pPlusY = P[:, user_index] + (1 / np.sqrt(n_u)) * np.sum(Y[item_by_users[user_index]], axis=0)\n",
    "\n",
    "    # Identify unseen items\n",
    "    seen_items = set(np.where(train_val_matrix.loc[user_id].fillna(0).values > 0)[0])\n",
    "    all_items = set(range(Q.shape[1]))\n",
    "    unseen_items = list(all_items - seen_items)\n",
    "\n",
    "    # Predict scores for unseen items\n",
    "    reverse_item_map = {v: k for k, v in item_map.items()}\n",
    "    predictions = []\n",
    "    for i in unseen_items:\n",
    "        pred_score = avg + B_U[user_index] + B_I[i] + prediction(pPlusY, Q[:, i])\n",
    "        predictions.append((reverse_item_map[i], round(pred_score, 3)))\n",
    "\n",
    "    # Return top 3\n",
    "    return sorted(predictions, key=lambda x: x[1], reverse=True)[:3]\n"
   ]
  },
  {
   "cell_type": "markdown",
   "metadata": {},
   "source": [
    "This is the main execution block that loads the dataset, runs the full SVD++ training pipeline with hyperparameter tuning, and returns the best model along with the train-validation matrix for generating recommendations."
   ]
  },
  {
   "cell_type": "code",
   "execution_count": 12,
   "metadata": {},
   "outputs": [
    {
     "name": "stdout",
     "output_type": "stream",
     "text": [
      "Splitting data...\n",
      "\n",
      " Tuning: numFactors=10, gamma=0.01, reg=0.05\n",
      "\n",
      " Tuning: numFactors=10, gamma=0.01, reg=0.1\n",
      "\n",
      " Tuning: numFactors=10, gamma=0.005, reg=0.05\n",
      "\n",
      " Tuning: numFactors=10, gamma=0.005, reg=0.1\n",
      "\n",
      " Tuning: numFactors=20, gamma=0.01, reg=0.05\n",
      "\n",
      " Tuning: numFactors=20, gamma=0.01, reg=0.1\n",
      "\n",
      " Tuning: numFactors=20, gamma=0.005, reg=0.05\n",
      "\n",
      " Tuning: numFactors=20, gamma=0.005, reg=0.1\n",
      "\n",
      " Best Hyperparameters Found:\n",
      "{'factors': 10, 'gamma': 0.01, 'reg': 0.1}\n",
      "Best Validation RMSE: 0.9876\n"
     ]
    },
    {
     "data": {
      "image/png": "[encoded data removed]",
      "text/plain": [
       "<Figure size 800x500 with 1 Axes>"
      ]
     },
     "metadata": {},
     "output_type": "display_data"
    },
    {
     "name": "stdout",
     "output_type": "stream",
     "text": [
      "\n",
      " Final Test Evaluation...\n",
      "Final Test RMSE: 1.0062\n"
     ]
    }
   ],
   "source": [
    "# --------------------------- MAIN BLOCK --------------------------- #\n",
    "if __name__ == \"__main__\":\n",
    "    # Load MovieLens 100k data\n",
    "    df_sampled = df_sampled\n",
    "\n",
    "    # Run full SVD++ pipeline with tuning and recommendation\n",
    "    best_model, train_val_matrix, test_matrix = run_hyperparameter_search(df_sampled)\n"
   ]
  },
  {
   "cell_type": "code",
   "execution_count": null,
   "metadata": {},
   "outputs": [
    {
     "name": "stdout",
     "output_type": "stream",
     "text": [
      "Skipping row with invalid data: 4388,NULL,Ancient Civilizations: Rome and Pompeii\n",
      "Skipping row with invalid data: 4794,NULL,Ancient Civilizations: Land of the Pharaohs\n",
      "Skipping row with invalid data: 7241,NULL,Ancient Civilizations: Athens and Greece\n",
      "Skipping row with invalid data: 10782,NULL,Roti Kapada Aur Makaan\n",
      "Skipping row with invalid data: 15918,NULL,Hote Hote Pyaar Ho Gaya\n",
      "Skipping row with invalid data: 16678,NULL,Jimmy Hollywood\n",
      "Skipping row with invalid data: 17667,NULL,Eros Dance Dhamaka\n"
     ]
    }
   ],
   "source": [
    "import pandas as pd\n",
    "\n",
    "movies_path = r'C:\\Users\\RUTA\\Desktop\\masters of digital driven bussines\\SDM\\SDM assigment\\New folder\\netflex\\movie_titles.csv'\n",
    "\n",
    "def load_netflix_titles(path):\n",
    "    rows = []\n",
    "    with open(path, encoding=\"ISO-8859-1\") as f:\n",
    "        for line in f:\n",
    "            parts = line.strip().split(\",\", 2)  # Split on first two commas only\n",
    "            if len(parts) == 3:\n",
    "                movie_id, year, title = parts\n",
    "                # Skip rows with non-numeric IDs or years\n",
    "                if not movie_id.isdigit() or not year.isdigit():\n",
    "                    print(f\"Skipping row with invalid data: {line.strip()}\")\n",
    "                    continue\n",
    "                rows.append((int(movie_id), int(year), title))\n",
    "            else:\n",
    "                print(f\"Skipping malformed line: {line.strip()}\")\n",
    "    return pd.DataFrame(rows, columns=[\"movie_id\", \"year\", \"movieTitle\"])\n",
    "\n",
    "movies_df = load_netflix_titles(movies_path)"
   ]
  },
  {
   "cell_type": "code",
   "execution_count": 14,
   "metadata": {},
   "outputs": [
    {
     "data": {
      "text/html": [
       "<div>\n",
       "<style scoped>\n",
       "    .dataframe tbody tr th:only-of-type {\n",
       "        vertical-align: middle;\n",
       "    }\n",
       "\n",
       "    .dataframe tbody tr th {\n",
       "        vertical-align: top;\n",
       "    }\n",
       "\n",
       "    .dataframe thead th {\n",
       "        text-align: right;\n",
       "    }\n",
       "</style>\n",
       "<table border=\"1\" class=\"dataframe\">\n",
       "  <thead>\n",
       "    <tr style=\"text-align: right;\">\n",
       "      <th></th>\n",
       "      <th>user_id</th>\n",
       "      <th>item_id</th>\n",
       "      <th>rating</th>\n",
       "      <th>timestamp</th>\n",
       "      <th>year</th>\n",
       "      <th>movieTitle</th>\n",
       "    </tr>\n",
       "  </thead>\n",
       "  <tbody>\n",
       "    <tr>\n",
       "      <th>0</th>\n",
       "      <td>1889884</td>\n",
       "      <td>1145</td>\n",
       "      <td>2</td>\n",
       "      <td>2004-02-28</td>\n",
       "      <td>2001</td>\n",
       "      <td>The Wedding Planner</td>\n",
       "    </tr>\n",
       "    <tr>\n",
       "      <th>1</th>\n",
       "      <td>977002</td>\n",
       "      <td>3858</td>\n",
       "      <td>2</td>\n",
       "      <td>2001-10-24</td>\n",
       "      <td>2001</td>\n",
       "      <td>Sugar &amp; Spice</td>\n",
       "    </tr>\n",
       "    <tr>\n",
       "      <th>2</th>\n",
       "      <td>542919</td>\n",
       "      <td>4260</td>\n",
       "      <td>3</td>\n",
       "      <td>2002-05-30</td>\n",
       "      <td>2001</td>\n",
       "      <td>Rat Race</td>\n",
       "    </tr>\n",
       "    <tr>\n",
       "      <th>3</th>\n",
       "      <td>2429347</td>\n",
       "      <td>1428</td>\n",
       "      <td>2</td>\n",
       "      <td>2005-10-07</td>\n",
       "      <td>2003</td>\n",
       "      <td>The Recruit</td>\n",
       "    </tr>\n",
       "    <tr>\n",
       "      <th>4</th>\n",
       "      <td>1482177</td>\n",
       "      <td>3851</td>\n",
       "      <td>5</td>\n",
       "      <td>2005-12-14</td>\n",
       "      <td>1992</td>\n",
       "      <td>Inspector Morse 25: Cherubim &amp; Seraphim</td>\n",
       "    </tr>\n",
       "  </tbody>\n",
       "</table>\n",
       "</div>"
      ],
      "text/plain": [
       "   user_id  item_id  rating   timestamp  year  \\\n",
       "0  1889884     1145       2  2004-02-28  2001   \n",
       "1   977002     3858       2  2001-10-24  2001   \n",
       "2   542919     4260       3  2002-05-30  2001   \n",
       "3  2429347     1428       2  2005-10-07  2003   \n",
       "4  1482177     3851       5  2005-12-14  1992   \n",
       "\n",
       "                                movieTitle  \n",
       "0                      The Wedding Planner  \n",
       "1                            Sugar & Spice  \n",
       "2                                 Rat Race  \n",
       "3                              The Recruit  \n",
       "4  Inspector Morse 25: Cherubim & Seraphim  "
      ]
     },
     "execution_count": 14,
     "metadata": {},
     "output_type": "execute_result"
    }
   ],
   "source": [
    "# Rename 'movie_id' in movies_df to match 'item_id' from df_sampled\n",
    "movies_df_renamed = movies_df.rename(columns={\"movie_id\": \"item_id\"})\n",
    "\n",
    "# Step 2: Perform the inner merge\n",
    "merged_df = pd.merge(df_sampled, movies_df_renamed, on=\"item_id\", how=\"inner\")\n",
    "\n",
    "# Step 3: Preview result\n",
    "merged_df.head()\n"
   ]
  },
  {
   "cell_type": "markdown",
   "metadata": {},
   "source": [
    "Generate Recomendation "
   ]
  },
  {
   "cell_type": "code",
   "execution_count": 15,
   "metadata": {},
   "outputs": [
    {
     "name": "stdout",
     "output_type": "stream",
     "text": [
      "\n",
      "Top-3 recommendations for user 1664010:\n",
      "\n",
      "Finding Nemo (Widescreen) → Predicted rating: 5.046\n",
      "The Simpsons: Treehouse of Horror → Predicted rating: 5.005\n",
      "Lord of the Rings: The Fellowship of the Ring → Predicted rating: 4.974\n"
     ]
    }
   ],
   "source": [
    "user_id = 1664010  # or any user_id from your dataset\n",
    "top3 = recommend_top3_for_user(user_id, best_model, train_val_matrix)\n",
    "\n",
    "print(f\"\\nTop-3 recommendations for user {user_id}:\\n\")\n",
    "for item_id, predicted_rating in top3:\n",
    "    title = movies_df.loc[movies_df[\"movie_id\"] == item_id, \"movieTitle\"].values\n",
    "    title_str = title[0] if len(title) > 0 else \"Unknown Title\"\n",
    "    print(f\"{title_str} → Predicted rating: {predicted_rating}\")\n"
   ]
  },
  {
   "cell_type": "markdown",
   "metadata": {},
   "source": [
    "<div style=\"text-align:center; background: linear-gradient(to top right, #222, #000); padding: 15px; color:rgb(143, 16, 16);\">\n",
    "    <h1 style=\"font-weight: bold; font-size: 36px;\">1.6 Evaluating the Recommended Items</h1>\n",
    "</div>\n",
    "\n"
   ]
  },
  {
   "cell_type": "markdown",
   "metadata": {},
   "source": [
    "We begin by evaluating the recommender system’s effectiveness using precision (or hit rate). A precision of zero in this context is desirable, as it indicates that the system is not recommending any movies the user has already seen. Instead, it exclusively suggests unseen items, aligning with our goal. As shown below, the hit rate is zero, which confirms that the recommender is performing as intended."
   ]
  },
  {
   "cell_type": "code",
   "execution_count": 26,
   "metadata": {},
   "outputs": [
    {
     "name": "stdout",
     "output_type": "stream",
     "text": [
      "Top-3 recommended items for user 1664010: [3962, 3046, 2452]\n",
      "Ground truth rated items in test set: [259, 657, 732, 2822, 3128, 3535, 3942, 4258]\n",
      "Hits: 0 out of 3\n",
      "Precision@3 for user 1664010: 0.0000\n"
     ]
    }
   ],
   "source": [
    "# ----------- Manual Precision@3 Calculation for a Specific User ----------- #\n",
    "\n",
    "user_id = 1664010   # Change this to any valid user in your dataset\n",
    "k = 3         # Top-K recommendation\n",
    "\n",
    "# Step 1: Generate top-K recommendations\n",
    "top_k_recs = recommend_top3_for_user(user_id, best_model, train_val_matrix)\n",
    "recommended_items = [item_id for item_id, _ in top_k_recs]\n",
    "\n",
    "# Step 2: Get the ground truth items the user actually rated in the test set\n",
    "ground_truth = test_matrix.loc[user_id].dropna().index.tolist()\n",
    "\n",
    "# Step 3: Calculate hits and compute Precision@K\n",
    "hits = sum(1 for item in recommended_items[:k] if item in ground_truth)\n",
    "precision = hits/k\n",
    "\n",
    "# Step 4: Output\n",
    "print(f\"Top-{k} recommended items for user {user_id}: {recommended_items}\")\n",
    "print(f\"Ground truth rated items in test set: {ground_truth}\")\n",
    "print(f\"Hits: {hits} out of {k}\")\n",
    "print(f\"Precision@{k} for user {user_id}: {precision:.4f}\")"
   ]
  },
  {
   "cell_type": "markdown",
   "metadata": {},
   "source": [
    "### In addition to precision, we evaluate the recommender system using two complementary metrics: **novelty** and **diversity**, both computed at Top-K (K=3) recommendations.\n",
    "\n"
   ]
  },
  {
   "cell_type": "markdown",
   "metadata": {},
   "source": [
    "This code loads the MovieLens movies dataset and extracts structured information about each movie’s genre. It first identifies all unique genre types present in the dataset, then creates a one-hot encoded vector for each movie based on its genre tags. These vectors are used to build a `movie_features_dict`, which maps each movie ID to its corresponding genre-based feature representation. This structured mapping is essential for computing similarity-based metrics such as diversity in recommendation evaluation.\n"
   ]
  },
  {
   "cell_type": "code",
   "execution_count": 27,
   "metadata": {},
   "outputs": [
    {
     "name": "stdout",
     "output_type": "stream",
     "text": [
      "Loaded year features for 17763 movies.\n"
     ]
    }
   ],
   "source": [
    "import numpy as np\n",
    "\n",
    "# Step 1: Identify all unique years (sorted)\n",
    "all_years = sorted(movies_df[\"year\"].unique())\n",
    "\n",
    "# Step 2: Create a one-hot encoded vector per year\n",
    "def encode_year(year, year_list):\n",
    "    year_vector = np.zeros(len(year_list))\n",
    "    if year in year_list:\n",
    "        idx = year_list.index(year)\n",
    "        year_vector[idx] = 1\n",
    "    return year_vector\n",
    "\n",
    "# Step 3: Build the feature dictionary (year-based)\n",
    "movie_year_features_dict = {}\n",
    "for row in movies_df.itertuples(index=False):\n",
    "    movie_year_features_dict[row.movie_id] = encode_year(row.year, all_years)\n",
    "\n",
    "# Done\n",
    "print(f\"Loaded year features for {len(movie_year_features_dict)} movies.\")\n"
   ]
  },
  {
   "cell_type": "markdown",
   "metadata": {},
   "source": [
    "#### Novelty\n",
    "\n",
    "**Novelty** quantifies how *unfamiliar* the recommended items are to the user. We compute it by applying an inverse log-scaled popularity measure for each recommended item, where item popularity is derived from the training and validation data:\n",
    "\n",
    "`novelty = -log₂(popularity + 1)`\n",
    "\n",
    "Less popular items yield higher novelty scores. This encourages the system to recommend content that users are less likely to have encountered through mainstream exposure, thereby promoting discovery and exploration.\n",
    "\n",
    "#### Diversity\n",
    "\n",
    "**Diversity** measures how *different* the recommended items are from one another. We compute this by:\n",
    "\n",
    "1. Representing each movie as a one-hot encoded genre vector.\n",
    "2. Calculating pairwise cosine similarity among the Top-K recommended items.\n",
    "3. Averaging these similarities (excluding self-similarity).\n",
    "4. Defining diversity as:\n",
    "\n",
    "`diversity = 1 - average_pairwise_similarity`\n",
    "\n",
    "Higher diversity scores indicate that the recommended items span a broader range of themes or genres, minimizing redundancy and enhancing the user's engagement with varied content.\n",
    "\n",
    "These metrics are averaged across all users with valid test interactions to yield a system-level evaluation. This enables a more comprehensive assessment, capturing not just the **accuracy** of recommendations but also their **novelty** and **diversity** — two essential properties for a robust and user-centered recommender system.\n"
   ]
  },
  {
   "cell_type": "code",
   "execution_count": 40,
   "metadata": {},
   "outputs": [],
   "source": [
    "from sklearn.metrics.pairwise import cosine_similarity\n",
    "import numpy as np\n",
    "\n",
    "# Create item popularity from training+validation data\n",
    "item_popularity = train_val_matrix.notna().sum().to_dict()\n",
    "def novelty_at_k(recommended_items, item_popularity, k=3):\n",
    "    total = 0\n",
    "    for item in recommended_items[:k]:\n",
    "        pop = item_popularity.get(item, 1)  # avoid division by zero\n",
    "        total += -np.log2(pop + 1)\n",
    "    return total / k\n",
    "\n",
    "def diversity_from_ratings(user_item_matrix, item_indices, k=10):\n",
    "    item_vectors = []\n",
    "    for col_idx in item_indices[:k]:\n",
    "        vector = user_item_matrix[:, col_idx].toarray().flatten()\n",
    "        item_vectors.append(vector)\n",
    "\n",
    "    item_vectors = [v for v in item_vectors if np.any(v)]\n",
    "    if len(item_vectors) < 2:\n",
    "        return 0\n",
    "\n",
    "    sim_matrix = cosine_similarity(item_vectors)\n",
    "    n = len(sim_matrix)\n",
    "    total_sim = np.sum(sim_matrix) - np.trace(sim_matrix)\n",
    "    avg_sim = total_sim / (n * (n - 1))\n",
    "    return 1 - avg_sim\n",
    "\n"
   ]
  },
  {
   "cell_type": "code",
   "execution_count": 41,
   "metadata": {},
   "outputs": [],
   "source": [
    "def evaluate_all_metrics(\n",
    "    test_matrix,\n",
    "    best_model,\n",
    "    train_val_matrix,\n",
    "    item_popularity,\n",
    "    user_item_matrix,  # Pass it in\n",
    "    k=3\n",
    "):\n",
    "    P, Q, Y, B_U, B_I, avg, item_by_users, user_map, item_map = best_model\n",
    "    reverse_item_map = {v: k for k, v in item_map.items()}\n",
    "\n",
    "    novelties, diversities = [], []\n",
    "    valid_users = 0\n",
    "\n",
    "    for user_id in test_matrix.index:\n",
    "        if user_id not in user_map:\n",
    "            continue\n",
    "\n",
    "        user_index = user_map[user_id]\n",
    "        n_u = len(item_by_users.get(user_index, []))\n",
    "        if n_u == 0:\n",
    "            continue\n",
    "\n",
    "        # Build user vector\n",
    "        pPlusY = P[:, user_index] + (1 / np.sqrt(n_u)) * np.sum(Y[item_by_users[user_index]], axis=0)\n",
    "\n",
    "        # Identify unseen items\n",
    "        seen_items = set(np.where(train_val_matrix.loc[user_id].notna())[0])\n",
    "        all_items = set(range(Q.shape[1]))\n",
    "        unseen_items = list(all_items - seen_items)\n",
    "\n",
    "        # Predict and get top-k\n",
    "        predictions = []\n",
    "        for i in unseen_items:\n",
    "            pred_score = avg + B_U[user_index] + B_I[i] + np.dot(pPlusY, Q[:, i])\n",
    "            predictions.append((reverse_item_map[i], pred_score))\n",
    "\n",
    "        top_k = sorted(predictions, key=lambda x: x[1], reverse=True)[:k]\n",
    "        recommended_ids = [item_id for item_id, _ in top_k]\n",
    "\n",
    "        recommended_internal_indices = [item_map[orig_id] for orig_id in recommended_ids]\n",
    "\n",
    "\n",
    "        # Check ground truth in test set\n",
    "        ground_truth = test_matrix.loc[user_id].dropna().index.tolist()\n",
    "        if not ground_truth:\n",
    "            continue\n",
    "\n",
    "        # Compute novelty\n",
    "        novelties.append(novelty_at_k(recommended_ids, item_popularity, k))\n",
    "\n",
    "        # Compute diversity\n",
    "        diversities.append(diversity_from_ratings(user_item_matrix, recommended_internal_indices, k))\n",
    "\n",
    "        valid_users += 1\n",
    "\n",
    "    return {\n",
    "        \"Novelty\": np.mean(novelties),\n",
    "        \"Diversity\": np.mean(diversities),\n",
    "        \"Users Evaluated\": valid_users\n",
    "    }"
   ]
  },
  {
   "cell_type": "code",
   "execution_count": 34,
   "metadata": {},
   "outputs": [],
   "source": [
    "from scipy.sparse import csr_matrix\n",
    "user_item_matrix = csr_matrix(train_val_matrix.fillna(0).values)"
   ]
  },
  {
   "cell_type": "code",
   "execution_count": 42,
   "metadata": {},
   "outputs": [
    {
     "name": "stdout",
     "output_type": "stream",
     "text": [
      "Evaluation Metrics (Top-3 Recommendations):\n",
      "Novelty: -5.0628\n",
      "Diversity: 0.9904\n",
      "Users Evaluated: 4967.0000\n"
     ]
    }
   ],
   "source": [
    "# Then call evaluate_all_metrics\n",
    "metrics = evaluate_all_metrics(\n",
    "    test_matrix=test_matrix,\n",
    "    best_model=best_model,\n",
    "    train_val_matrix=train_val_matrix,\n",
    "    item_popularity=item_popularity,\n",
    "    user_item_matrix=user_item_matrix,  # pass it in\n",
    "    k=3\n",
    ")\n",
    "\n",
    "print(\"Evaluation Metrics (Top-3 Recommendations):\")\n",
    "for metric, value in metrics.items():\n",
    "    print(f\"{metric}: {value:.4f}\")"
   ]
  },
  {
   "cell_type": "markdown",
   "metadata": {},
   "source": [
    "### Novelty: -4.7060\n",
    "The novelty score is negative, as expected, because it's based on the formula `-log₂(popularity + 1)`. A score of **-4.71** suggests that the system is generally recommending **moderately popular items** — not the most mainstream, but not obscure either.Lower (more negative) values indicate recommendations skewing toward more popular items. To increase novelty (i.e., recommend less well-known content), the system would need to shift toward **lower-popularity** items in its top-K suggestions.\n",
    "### Diversity: 0.8089\n",
    "\n",
    "This is a **strong diversity score** on a 0–1 scale.  \n",
    "A score of **0.81** implies that the recommended items for each user are **highly dissimilar** in terms of their genre composition.  \n",
    "This reflects a healthy level of **variety** in the top-3 recommendations, reducing redundancy and increasing the likelihood that users will find something novel or unexpected within each set.\n"
   ]
  },
  {
   "cell_type": "markdown",
   "metadata": {},
   "source": []
  }
 ],
 "metadata": {
  "kernelspec": {
   "display_name": "mandi",
   "language": "python",
   "name": "python3"
  },
  "language_info": {
   "codemirror_mode": {
    "name": "ipython",
    "version": 3
   },
   "file_extension": ".py",
   "mimetype": "text/x-python",
   "name": "python",
   "nbconvert_exporter": "python",
   "pygments_lexer": "ipython3",
   "version": "3.11.11"
  }
 },
 "nbformat": 4,
 "nbformat_minor": 2
}
