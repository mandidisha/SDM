{
 "cells": [
  {
   "cell_type": "markdown",
   "metadata": {},
   "source": [
    "<div style=\"text-align:center; background: linear-gradient(to top right, #222, #000); padding: 20px; color:rgb(9, 38, 229);\">\n",
    "    <h1 style=\"font-weight: bold; font-size: 36px;\">SVD++ Recommender System </h1>\n",
    "</div>\n"
   ]
  },
  {
   "cell_type": "markdown",
   "metadata": {},
   "source": [
    "In the notebook, we developed an SVD++ recommender system using yelp dataset. SVD++ is an advanced matrix factorization algorithm that improves upon standard SVD by incorporating implicit feedback—such as whether a user interacted with an item, even without rating it. This allows the model to better capture user preferences by factoring in both explicit ratings and underlying behavioral signals, making it especially effective in real-world recommendation scenarios with sparse data."
   ]
  },
  {
   "cell_type": "markdown",
   "metadata": {},
   "source": [
    "<div style=\"text-align:center; background: linear-gradient(to top right, #222, #000); padding: 15px; color:rgb(9, 229, 9);\">\n",
    "    <h1 style=\"font-weight: bold; font-size: 36px;\">0. Importing Packages and Libraries</h1>\n",
    "</div>\n"
   ]
  },
  {
   "cell_type": "code",
   "execution_count": 14,
   "metadata": {},
   "outputs": [],
   "source": [
    "import numpy as np\n",
    "import pandas as pd\n",
    "import matplotlib.pyplot as plt\n",
    "from itertools import product\n",
    "from sklearn.model_selection import train_test_split, KFold\n",
    "from sklearn.metrics import mean_squared_error\n",
    "from tqdm import tqdm  # For progress bars\n",
    "\n"
   ]
  },
  {
   "cell_type": "markdown",
   "metadata": {},
   "source": [
    "<div style=\"text-align:center; background: linear-gradient(to top right, #222, #000); padding: 15px; color:rgb(16, 229, 9);\">\n",
    "    <h1 style=\"font-weight: bold; font-size: 36px;\">1.1 Preparing Set/Sample</h1>\n",
    "</div>"
   ]
  },
  {
   "cell_type": "code",
   "execution_count": 15,
   "metadata": {},
   "outputs": [],
   "source": [
    "# --------------------------- LOAD DATA --------------------------- #\n",
    "def loadData(path):\n",
    "    df = pd.read_csv(path)\n",
    "    df = df.rename(columns={'business_id': 'item_id', 'stars': 'rating'})\n",
    "    df = df[['user_id', 'item_id', 'rating']]\n",
    "    return df"
   ]
  },
  {
   "cell_type": "markdown",
   "metadata": {},
   "source": [
    "To ensure that the model has enough data to learn meaningful preferences:\n",
    "- We **remove users** with fewer than 5 ratings because they don't provide enough signal to learn a reliable latent user vector.\n",
    "- We **remove items** (restaurants) with fewer than 10 ratings because these are too rarely rated to generate meaningful latent features, increasing the risk of overfitting or noise."
   ]
  },
  {
   "cell_type": "code",
   "execution_count": 16,
   "metadata": {},
   "outputs": [],
   "source": [
    "# --------------------------- FILTERING --------------------------- #\n",
    "def filter_active_users_and_items(df, min_user_ratings=5, min_item_ratings=10):\n",
    "    # Keep track of original counts\n",
    "    orig_users = df['user_id'].nunique()\n",
    "    orig_items = df['item_id'].nunique()\n",
    "    orig_ratings = len(df)\n",
    "    \n",
    "    user_counts = df['user_id'].value_counts()\n",
    "    df = df[df['user_id'].isin(user_counts[user_counts >= min_user_ratings].index)]\n",
    "\n",
    "    item_counts = df['item_id'].value_counts()\n",
    "    df = df[df['item_id'].isin(item_counts[item_counts >= min_item_ratings].index)]\n",
    "    \n",
    "    # Print stats\n",
    "    print(f\"Filtering stats:\")\n",
    "    print(f\"  Users: {orig_users} → {df['user_id'].nunique()} ({df['user_id'].nunique()/orig_users:.1%} kept)\")\n",
    "    print(f\"  Items: {orig_items} → {df['item_id'].nunique()} ({df['item_id'].nunique()/orig_items:.1%} kept)\")\n",
    "    print(f\"  Ratings: {orig_ratings} → {len(df)} ({len(df)/orig_ratings:.1%} kept)\")\n",
    "    \n",
    "    return df"
   ]
  },
  {
   "cell_type": "markdown",
   "metadata": {},
   "source": [
    "## Stratified Sampling for SVD++ on Large Datasets\n",
    "\n",
    "SVD++ can be computationally intensive, especially on large datasets like Yelp.  \n",
    "To make experimentation faster and more resource-efficient, we apply **stratified sampling**:\n",
    "\n",
    "- Instead of random sampling, we **stratify by user activity level** (i.e., number of ratings per user).\n",
    "- Users are grouped into **low**, **medium**, and **high-frequency bins** based on the 33rd and 66th percentiles of their rating counts.\n",
    "- This preserves the **distribution of user engagement**, ensuring the sampled data remains representative of the full dataset.\n",
    "\n",
    "> This approach strikes a balance between **efficiency** and **data integrity**, enabling quicker model iteration without severely compromising performance fidelity.\n"
   ]
  },
  {
   "cell_type": "code",
   "execution_count": 17,
   "metadata": {},
   "outputs": [],
   "source": [
    "# --------------------------- STRATIFIED SAMPLING --------------------------- #\n",
    "def stratified_sampling(df, sample_frac=0.3):\n",
    "    user_counts = df[\"user_id\"].value_counts()\n",
    "    \n",
    "    # Create user rating frequency bins (low, medium, high)\n",
    "    user_count_percentiles = np.percentile(user_counts, [33, 66])\n",
    "    bins = [-1, user_count_percentiles[0], user_count_percentiles[1], float('inf')]\n",
    "    labels = ['low', 'medium', 'high']\n",
    "    \n",
    "    df[\"user_frequency\"] = df[\"user_id\"].map(\n",
    "        user_counts.apply(lambda x: pd.cut([x], bins=bins, labels=labels)[0])\n",
    "    )\n",
    "    \n",
    "    df_sampled, _ = train_test_split(df, test_size=(1 - sample_frac),\n",
    "                                     stratify=df[\"user_frequency\"], random_state=42)\n",
    "    return df_sampled.drop(columns=[\"user_frequency\"])"
   ]
  },
  {
   "cell_type": "markdown",
   "metadata": {},
   "source": [
    "## Data Preprocessing for SVD++ Pipeline\n",
    "\n",
    "To prepare the dataset for matrix factorization using SVD++, we perform the following key preprocessing steps:\n",
    "\n",
    "---\n",
    "\n",
    "### 1. Normalize Ratings\n",
    "\n",
    "We normalize user ratings by subtracting each user's average rating.  \n",
    "This centers the ratings around zero and removes user bias (e.g., lenient vs. harsh raters), making comparisons across users more meaningful.\n",
    "\n",
    "- **Input:** Raw `rating`\n",
    "- **Output:** `normalized_rating = rating - user_mean`\n",
    "\n",
    "---\n",
    "\n",
    "### 2. Create User-Item Matrix\n",
    "\n",
    "We generate a dense matrix where:\n",
    "- Rows represent **users**\n",
    "- Columns represent **items**\n",
    "- Values represent the (normalized or original) **ratings**\n",
    "\n",
    "This matrix is the core input for many collaborative filtering models.\n",
    "\n",
    "- **Input:** DataFrame with `user_id`, `item_id`, and ratings\n",
    "- **Output:** Pivot table: `user_id × item_id → rating`\n",
    "\n",
    "---\n",
    "\n",
    "### 3. Random User Split\n",
    "\n",
    "To simulate realistic prediction scenarios, we split each user's ratings into:\n",
    "- **Training set** (e.g., 60%)\n",
    "- **Validation set** (e.g., 20%)\n",
    "- **Test set** (e.g., 20%)\n",
    "\n",
    "The split is:\n",
    "- Performed **within users** to preserve user-specific patterns\n",
    "- Randomized (with a fixed seed)\n",
    "- Requires users to have **at least 5 ratings** to ensure meaningful splits\n",
    "\n",
    "> This setup mimics real-world recommendation settings where we predict a user's future ratings based on their past behavior.\n"
   ]
  },
  {
   "cell_type": "code",
   "execution_count": 18,
   "metadata": {},
   "outputs": [],
   "source": [
    "\n",
    "# --------------------------- NORMALIZE RATINGS --------------------------- #\n",
    "def normalize_ratings(df):\n",
    "    \"\"\"Normalize ratings by subtracting user mean rating\"\"\"\n",
    "    user_means = df.groupby('user_id')['rating'].mean()\n",
    "    df['normalized_rating'] = df.apply(lambda x: x['rating'] - user_means[x['user_id']], axis=1)\n",
    "    # Keep both original and normalized ratings\n",
    "    return df\n",
    "\n",
    "# --------------------------- USER-ITEM MATRIX --------------------------- #\n",
    "def create_user_item_matrix(df, rating_column='rating'):\n",
    "    df_grouped = df.groupby(['user_id', 'item_id'])[rating_column].mean().reset_index()\n",
    "    return df_grouped.pivot(index=\"user_id\", columns=\"item_id\", values=rating_column)\n",
    "\n",
    "# --------------------------- SPLIT --------------------------- #\n",
    "def random_user_split(df, train_ratio=0.6, val_ratio=0.2, seed=42):\n",
    "    np.random.seed(seed)\n",
    "    train_data, val_data, test_data = [], [], []\n",
    "    \n",
    "    for user, group in df.groupby(\"user_id\"):\n",
    "        group = group.sample(frac=1, random_state=seed).reset_index(drop=True)\n",
    "        if len(group) < 5:\n",
    "            continue\n",
    "        n = len(group)\n",
    "        train_end = int(train_ratio * n)\n",
    "        val_end = int((train_ratio + val_ratio) * n)\n",
    "        train_data.append(group.iloc[:train_end])\n",
    "        val_data.append(group.iloc[train_end:val_end])\n",
    "        test_data.append(group.iloc[val_end:])\n",
    "\n",
    "    if not train_data or not val_data or not test_data:\n",
    "        raise ValueError(\" Not enough data after filtering. Try lowering min_user_ratings or sample_frac.\")\n",
    "\n",
    "    return pd.concat(train_data), pd.concat(val_data), pd.concat(test_data)"
   ]
  },
  {
   "cell_type": "markdown",
   "metadata": {},
   "source": [
    "## Matrix Factorization Helper Functions\n",
    "\n",
    "These utility functions support the implementation and evaluation of the SVD++ algorithm for recommendation.\n",
    "\n",
    "---\n",
    "\n",
    "### 1. index_matrix(matrix)\n",
    "\n",
    "Creates a binary indicator matrix `I` from the user-item interaction matrix `R`:\n",
    "- Sets all positive ratings to 1\n",
    "- Keeps zeros as 0\n",
    "\n",
    "This is commonly used in matrix factorization to represent observed vs. missing interactions.\n",
    "\n",
    "---\n",
    "\n",
    "### 2. batch_predictions(P, Q, Y, B_U, B_I, avg, user_indices, item_indices, item_by_users)\n",
    "\n",
    "Efficient, vectorized prediction function for SVD++.\n",
    "\n",
    "For each user-item pair:\n",
    "- Computes implicit feedback-adjusted user latent vector `pPlusY`\n",
    "- Incorporates global average (`avg`), user bias (`B_U[u]`), and item bias (`B_I[item]`)\n",
    "- Predicts rating using dot product between user and item latent vectors\n",
    "\n",
    "Handles users with no implicit feedback by falling back to a baseline prediction:\n"
   ]
  },
  {
   "cell_type": "code",
   "execution_count": 19,
   "metadata": {},
   "outputs": [],
   "source": [
    "\n",
    "# --------------------------- MATRIX FACTORIZATION HELPERS --------------------------- #\n",
    "def index_matrix(matrix):\n",
    "    I = matrix.copy()\n",
    "    I[I > 0] = 1\n",
    "    I[I == 0] = 0\n",
    "    return I\n",
    "\n",
    "# Vectorized prediction function for efficiency\n",
    "def batch_predictions(P, Q, Y, B_U, B_I, avg, user_indices, item_indices, item_by_users):\n",
    "    n_predictions = len(user_indices)\n",
    "    predictions = np.zeros(n_predictions)\n",
    "    \n",
    "    for i in range(n_predictions):\n",
    "        u, item = user_indices[i], item_indices[i]\n",
    "        n_u = len(item_by_users.get(u, []))\n",
    "        if n_u == 0:\n",
    "            predictions[i] = avg + B_U[u] + B_I[item]\n",
    "            continue\n",
    "            \n",
    "        pPlusY = P[:, u] + (1 / np.sqrt(n_u)) * np.sum(Y[item_by_users[u]], axis=0)\n",
    "        predictions[i] = avg + B_U[u] + B_I[item] + np.dot(pPlusY, Q[:, item])\n",
    "        \n",
    "    return predictions\n",
    "\n",
    "def rmse(R, user_indices, item_indices, actual_ratings, avg, Q, P, Y, B_U, B_I, item_by_users):\n",
    "    \"\"\"Calculate RMSE using vectorized operations\"\"\"\n",
    "    if len(user_indices) == 0:\n",
    "        return np.nan\n",
    "        \n",
    "    predictions = batch_predictions(P, Q, Y, B_U, B_I, avg, user_indices, item_indices, item_by_users)\n",
    "    return np.sqrt(mean_squared_error(actual_ratings, predictions))\n"
   ]
  },
  {
   "cell_type": "markdown",
   "metadata": {},
   "source": [
    "## Training Function for SVD++ Matrix Factorization\n",
    "\n",
    "This function implements the **SVD++ algorithm**, an advanced matrix factorization method that incorporates both **explicit ratings** and **implicit feedback**. It is optimized for performance, interpretability, and flexibility.\n",
    "\n",
    "---\n",
    "\n",
    "### Function: `train_svdpp(...)`\n",
    "\n",
    "#### **Inputs**:\n",
    "- `train_matrix`: Pandas DataFrame of user-item ratings (training set)\n",
    "- `val_matrix`: DataFrame for validation set, same structure as train\n",
    "- `numFactors`: Dimensionality of latent feature space (default=20)\n",
    "- `gamma`: Initial learning rate (default=0.01)\n",
    "- `reg`: Regularization parameter to prevent overfitting (default=0.1)\n",
    "- `num_epochs`: Max number of training iterations (default=100)\n",
    "- `patience`: Number of epochs without improvement before early stopping\n",
    "- `verbose`: Whether to print epoch results (default=False)\n",
    "- `use_tqdm`: Whether to display training progress bar (default=True)\n",
    "\n",
    "---\n",
    "\n",
    "### **Key Features**:\n",
    "\n",
    "- **Implicit Feedback Support**:\n",
    "  - Uses a matrix `Y` to capture implicit interactions (e.g., presence of rating, regardless of value)\n",
    "  - Aggregated into the prediction using normalized sum of item embeddings\n",
    "\n",
    "- **Bias Terms**:\n",
    "  - Learns global bias (`avg`), user biases (`B_U`), and item biases (`B_I`)\n",
    "\n",
    "- **Adaptive Learning Rate**:\n",
    "  - Applies decay (`decay_factor=0.9`) to learning rate over time\n",
    "  - Prevents overshooting during training\n",
    "\n",
    "- **Weight Initialization**:\n",
    "  - Uses **Xavier/Glorot initialization** to balance the scale of initial latent vectors\n",
    "\n",
    "- **Early Stopping**:\n",
    "  - Stops training if validation RMSE doesn’t improve for `patience` epochs\n",
    "\n",
    "---\n",
    "\n",
    "### **Returns**:\n",
    "- `train_errors`: List of RMSE values across training epochs\n",
    "- `val_errors`: List of RMSE values across validation epochs\n",
    "- `model_snapshot`: Tuple containing:\n",
    "  - `P`: user latent factors\n",
    "  - `Q`: item latent factors\n",
    "  - `Y`: implicit feedback matrix\n",
    "  - `B_U`, `B_I`: bias terms\n",
    "  - `avg`: global mean\n",
    "  - `item_by_users`: dictionary mapping users to interacted items\n",
    "  - `user_map`, `item_map`: ID-to-index mapping for users/items\n",
    "\n",
    "---\n",
    "\n",
    "This training function supports rapid prototyping while maintaining robust generalization through regularization and early stopping. It's ideal for experiments involving implicit + explicit feedback on large-scale datasets.\n"
   ]
  },
  {
   "cell_type": "code",
   "execution_count": 20,
   "metadata": {},
   "outputs": [],
   "source": [
    "\n",
    "# --------------------------- TRAINING SVD++ --------------------------- #\n",
    "def train_svdpp(train_matrix, val_matrix, numFactors=20, gamma=0.01, reg=0.1, \n",
    "                num_epochs=100, patience=5, verbose=False, use_tqdm=True):\n",
    "    users = train_matrix.index.tolist()\n",
    "    items = train_matrix.columns.tolist()\n",
    "    user_map = {u: i for i, u in enumerate(users)}\n",
    "    item_map = {v: j for j, v in enumerate(items)}\n",
    "    n_users, n_items = len(users), len(items)\n",
    "\n",
    "    R = train_matrix.fillna(0).astype(float).values\n",
    "    V = val_matrix.fillna(0).astype(float).values\n",
    "    \n",
    "    # Calculate global average\n",
    "    avg = R[R > 0].mean()\n",
    "    \n",
    "    # Create dictionaries mapping users to their rated items\n",
    "    item_by_users = {u: list(np.where(R[u] > 0)[0]) for u in range(n_users)}\n",
    "    \n",
    "    # Extract training and validation data points\n",
    "    train_users, train_items = R.nonzero()\n",
    "    train_ratings = R[train_users, train_items]\n",
    "    \n",
    "    val_users, val_items = V.nonzero()\n",
    "    val_ratings = V[val_users, val_items]\n",
    "\n",
    "    # Initialize model parameters with Xavier/Glorot initialization\n",
    "    # This helps with convergence by setting proper initial scale\n",
    "    P = np.random.normal(0, 1/np.sqrt(numFactors), (numFactors, n_users))\n",
    "    Q = np.random.normal(0, 1/np.sqrt(numFactors), (numFactors, n_items))\n",
    "    Y = np.random.normal(0, 1/np.sqrt(numFactors), (n_items, numFactors))\n",
    "    B_U = np.zeros(n_users)\n",
    "    B_I = np.zeros(n_items)\n",
    "\n",
    "    train_errors, val_errors = [], []\n",
    "    best_val_rmse = float(\"inf\")\n",
    "    best_model_snapshot = None\n",
    "    best_epoch = 0\n",
    "    \n",
    "    # Use adaptive learning rate\n",
    "    initial_gamma = gamma\n",
    "    decay_factor = 0.9\n",
    "    min_gamma = 0.001\n",
    "\n",
    "    # Set up progress bar for epochs\n",
    "    epoch_iterator = tqdm(range(num_epochs)) if use_tqdm else range(num_epochs)\n",
    "    \n",
    "    for epoch in epoch_iterator:\n",
    "        # Shuffle training data for each epoch\n",
    "        indices = np.arange(len(train_users))\n",
    "        np.random.shuffle(indices)\n",
    "        train_users_shuffled = train_users[indices]\n",
    "        train_items_shuffled = train_items[indices]\n",
    "        train_ratings_shuffled = train_ratings[indices]\n",
    "        \n",
    "        # Reduce learning rate over time\n",
    "        current_gamma = max(initial_gamma * (decay_factor ** epoch), min_gamma)\n",
    "        \n",
    "        for i in range(len(train_users_shuffled)):\n",
    "            u = train_users_shuffled[i]\n",
    "            item = train_items_shuffled[i]\n",
    "            r = train_ratings_shuffled[i]\n",
    "            \n",
    "            n_u = len(item_by_users[u])\n",
    "            if n_u == 0:\n",
    "                continue\n",
    "                \n",
    "            # Calculate current prediction\n",
    "            pPlusY = P[:, u] + (1 / np.sqrt(n_u)) * np.sum(Y[item_by_users[u]], axis=0)\n",
    "            pred = avg + B_U[u] + B_I[item] + np.dot(pPlusY, Q[:, item])\n",
    "            \n",
    "            # Calculate error\n",
    "            err = r - pred\n",
    "            \n",
    "            # Update parameters with regularization\n",
    "            P[:, u] += current_gamma * (err * Q[:, item] - reg * P[:, u])\n",
    "            Q[:, item] += current_gamma * (err * pPlusY - reg * Q[:, item])\n",
    "            \n",
    "            # Update implicit feedback factors\n",
    "            Y_update = current_gamma * (err * (1 / np.sqrt(n_u)) * Q[:, item] - reg * Y[item_by_users[u]])\n",
    "            Y[item_by_users[u]] += Y_update\n",
    "            \n",
    "            # Update biases\n",
    "            B_U[u] += current_gamma * (err - reg * B_U[u])\n",
    "            B_I[item] += current_gamma * (err - reg * B_I[item])\n",
    "\n",
    "        # Calculate errors\n",
    "        train_rmse = rmse(R, train_users, train_items, train_ratings, \n",
    "                         avg, Q, P, Y, B_U, B_I, item_by_users)\n",
    "        val_rmse = rmse(V, val_users, val_items, val_ratings, \n",
    "                       avg, Q, P, Y, B_U, B_I, item_by_users)\n",
    "\n",
    "        train_errors.append(train_rmse)\n",
    "        val_errors.append(val_rmse)\n",
    "\n",
    "        if verbose:\n",
    "            print(f\"Epoch {epoch+1} - Train RMSE: {train_rmse:.4f}, Val RMSE: {val_rmse:.4f}, LR: {current_gamma:.6f}\")\n",
    "        elif use_tqdm:\n",
    "            epoch_iterator.set_description(f\"Train RMSE: {train_rmse:.4f}, Val RMSE: {val_rmse:.4f}\")\n",
    "\n",
    "        # Save best model\n",
    "        if val_rmse < best_val_rmse:\n",
    "            best_val_rmse = val_rmse\n",
    "            best_epoch = epoch\n",
    "            best_model_snapshot = (P.copy(), Q.copy(), Y.copy(), B_U.copy(), B_I.copy())\n",
    "        # Early stopping\n",
    "        elif epoch - best_epoch >= patience:\n",
    "            if verbose:\n",
    "                print(f\"Early stopping at epoch {epoch+1}\")\n",
    "            break\n",
    "\n",
    "    P, Q, Y, B_U, B_I = best_model_snapshot\n",
    "    return train_errors, val_errors, (P, Q, Y, B_U, B_I, avg, item_by_users, user_map, item_map)"
   ]
  },
  {
   "cell_type": "markdown",
   "metadata": {},
   "source": [
    "## Plotting the Learning Curve for SVD++ Training\n",
    "\n",
    "The learning curve visually tracks the model’s performance across epochs, helping to identify:\n",
    "\n",
    "- Training progress\n",
    "- Convergence behavior\n",
    "- Overfitting or underfitting\n",
    "- Best epoch based on validation RMSE\n",
    "\n",
    "---\n",
    "\n",
    "### Function: `plot_learning_curve(train_errors, val_errors, best_params)`\n",
    "\n",
    "#### **Inputs**:\n",
    "- `train_errors`: List of RMSE values from training data per epoch\n",
    "- `val_errors`: List of RMSE values from validation data per epoch\n",
    "- `best_params`: Dictionary of best hyperparameters, e.g.:\n",
    "  ```python\n",
    "  best_params = {\n",
    "      'factors': 20,\n",
    "      'gamma': 0.01,\n",
    "      'reg': 0.1\n",
    "  }\n"
   ]
  },
  {
   "cell_type": "code",
   "execution_count": 21,
   "metadata": {},
   "outputs": [],
   "source": [
    "# --------------------------- PLOT LEARNING CURVE --------------------------- #\n",
    "def plot_learning_curve(train_errors, val_errors, best_params):\n",
    "    plt.figure(figsize=(10, 6))\n",
    "    plt.plot(train_errors, label='Train RMSE', color='blue', linewidth=2)\n",
    "    plt.plot(val_errors, label='Val RMSE', color='red', linewidth=2)\n",
    "    \n",
    "    # Add best validation point\n",
    "    best_epoch = np.argmin(val_errors)\n",
    "    plt.scatter(best_epoch, val_errors[best_epoch], color='green', s=100, \n",
    "                label=f'Best Val RMSE: {val_errors[best_epoch]:.4f}')\n",
    "    \n",
    "    plt.title(f\"SVD++ Learning Curve\\n(factors={best_params['factors']}, γ={best_params['gamma']}, λ={best_params['reg']})\",\n",
    "             fontsize=14)\n",
    "    plt.xlabel(\"Epoch\", fontsize=12)\n",
    "    plt.ylabel(\"RMSE\", fontsize=12)\n",
    "    plt.legend(fontsize=10)\n",
    "    plt.grid(True, linestyle='--', alpha=0.7)\n",
    "    plt.tight_layout()\n",
    "    \n",
    "    # Add vertical line at best epoch\n",
    "    plt.axvline(x=best_epoch, color='green', linestyle='--', alpha=0.5)\n",
    "    \n",
    "    plt.show()"
   ]
  },
  {
   "cell_type": "markdown",
   "metadata": {},
   "source": [
    "## Hyperparameter Tuning with Cross-Validation (SVD++)\n",
    "\n",
    "This function performs **grid search cross-validation** to find the optimal hyperparameters for the SVD++ model.\n",
    "\n",
    "It explores combinations of:\n",
    "- `factors`: Number of latent features\n",
    "- `gamma`: Learning rate\n",
    "- `reg`: Regularization strength\n",
    "\n",
    "---\n",
    "\n",
    "### Function: `cross_validate_hyperparams(df, normalized=True)`\n",
    "\n",
    "#### **Inputs**:\n",
    "- `df`: Preprocessed DataFrame containing `user_id`, `item_id`, and either `rating` or `normalized_rating`\n",
    "- `normalized` (default=True): Whether to use the `normalized_rating` column or the original `rating` column\n",
    "\n",
    "---\n",
    "\n",
    "### **Key Features**:\n",
    "\n",
    "- **Grid Search**:\n",
    "  - Exhaustively searches a grid of hyperparameter combinations:\n",
    "    - `factors`: [10, 20, 30]\n",
    "    - `gamma`: [0.005, 0.01, 0.02]\n",
    "    - `reg`: [0.05, 0.1, 0.2]\n",
    "\n",
    "- **3-Fold Cross-Validation**:\n",
    "  - Splits users into 3 folds using `KFold`\n",
    "  - Ensures the splits are based on **user IDs**, maintaining user histories in train/val sets\n",
    "\n",
    "- **Matrix Creation**:\n",
    "  - Constructs user-item matrices for train and validation data\n",
    "  - Keeps only common items across train/validation to avoid unseen items\n",
    "\n",
    "- **Robust Error Handling**:\n",
    "  - Catches and reports training exceptions gracefully\n",
    "\n",
    "- **Evaluation**:\n",
    "  - Tracks and stores validation RMSE for each hyperparameter combo\n",
    "  - Averages performance across folds to select the best configuration\n",
    "\n",
    "---\n",
    "\n",
    "### **Returns**:\n",
    "- `best_params`: Dictionary with the best hyperparameters found:\n",
    "  ```python\n",
    "  {\n",
    "      'factors': int,\n",
    "      'gamma': float,\n",
    "      'reg': float\n",
    "  }\n"
   ]
  },
  {
   "cell_type": "code",
   "execution_count": 22,
   "metadata": {},
   "outputs": [],
   "source": [
    "def cross_validate_hyperparams(df, normalized=True):\n",
    "    \"\"\"\n",
    "    Performs cross-validation on the given dataframe for SVD++ hyperparams.\n",
    "    \"\"\"\n",
    "    from sklearn.model_selection import KFold\n",
    "    \n",
    "    # 1) Choose which rating column to use\n",
    "    rating_col = 'normalized_rating' if normalized else 'rating'\n",
    "    \n",
    "    # 2) Define smaller hyperparameter grid\n",
    "    param_grid = {\n",
    "        'factors': [10, 20],    # fewer factor sizes\n",
    "        'gamma': [0.01],        # single learning rate\n",
    "        'reg': [0.05, 0.1]      # fewer regularization options\n",
    "    }\n",
    "    \n",
    "    print(\"Searching through fewer hyperparameter combinations for faster training...\")\n",
    "\n",
    "    # 3) Set up KFold to split *user IDs*, not individual rows\n",
    "    kf = KFold(n_splits=2, shuffle=True, random_state=42)\n",
    "    all_users = df['user_id'].unique()\n",
    "\n",
    "    results = []\n",
    "\n",
    "    for fold, (train_users_idx, val_users_idx) in enumerate(kf.split(all_users)):\n",
    "        print(f\"\\n--- Fold {fold+1}/2 ---\")\n",
    "        \n",
    "        # --------------------------------------\n",
    "        # 3a) Create actual train_df, val_df\n",
    "        # --------------------------------------\n",
    "        # Identify which user IDs go in train vs. val\n",
    "        train_user_ids = all_users[train_users_idx]\n",
    "        val_user_ids   = all_users[val_users_idx]\n",
    "\n",
    "        # Subset the main dataframe\n",
    "        train_df = df[df['user_id'].isin(train_user_ids)]\n",
    "        val_df   = df[df['user_id'].isin(val_user_ids)]\n",
    "        \n",
    "        # If either set is empty, skip\n",
    "        if len(train_df) == 0 or len(val_df) == 0:\n",
    "            print(\"Skipping this fold because train or val split is empty.\")\n",
    "            continue\n",
    "        \n",
    "        # --------------------------------------\n",
    "        # 3b) Create the user-item matrices\n",
    "        # --------------------------------------\n",
    "        train_matrix = create_user_item_matrix(train_df, rating_col)\n",
    "        val_matrix   = create_user_item_matrix(val_df, rating_col)\n",
    "\n",
    "        # Optionally, restrict to common items in both train & val\n",
    "        common_items = train_matrix.columns.intersection(val_matrix.columns)\n",
    "        train_matrix = train_matrix[common_items]\n",
    "        val_matrix   = val_matrix[common_items]\n",
    "        \n",
    "        # If no overlapping items, skip\n",
    "        if train_matrix.shape[1] == 0 or val_matrix.shape[1] == 0:\n",
    "            print(\"No overlapping items between train and val in this fold, skipping.\")\n",
    "            continue\n",
    "\n",
    "        # --------------------------------------\n",
    "        # 3c) Grid search over param_grid\n",
    "        # --------------------------------------\n",
    "        for f in param_grid['factors']:\n",
    "            for g in param_grid['gamma']:\n",
    "                for r in param_grid['reg']:\n",
    "                    print(f\"  Training with factors={f}, gamma={g}, reg={r}\")\n",
    "                    \n",
    "                    try:\n",
    "                        # We do a short training for speed\n",
    "                        _, val_rmse_list, _ = train_svdpp(\n",
    "                            train_matrix, val_matrix,\n",
    "                            numFactors=f, gamma=g, reg=r,\n",
    "                            num_epochs=20,   # reduced for quicker runs\n",
    "                            patience=2,      # reduced\n",
    "                            verbose=False,\n",
    "                            use_tqdm=False   # or True if you prefer progress bars\n",
    "                        )\n",
    "                        \n",
    "                        # The final val RMSE is the minimum over the epochs\n",
    "                        final_val_rmse = min(val_rmse_list)\n",
    "                        \n",
    "                        # Add to results\n",
    "                        results.append({\n",
    "                            'fold': fold,\n",
    "                            'factors': f,\n",
    "                            'gamma': g,\n",
    "                            'reg': r,\n",
    "                            'val_rmse': final_val_rmse\n",
    "                        })\n",
    "                        \n",
    "                        print(f\"    Val RMSE: {final_val_rmse:.4f}\")\n",
    "                    \n",
    "                    except Exception as e:\n",
    "                        print(f\"    Error: {e} -- skipping combo.\")\n",
    "\n",
    "    # -------------------------------\n",
    "    # After all folds + combos:\n",
    "    # -------------------------------\n",
    "    if len(results) == 0:\n",
    "        raise RuntimeError(\n",
    "            \"No successful runs were recorded. Possibly all folds or combos were skipped.\"\n",
    "        )\n",
    "    \n",
    "    # Convert results to dataframe\n",
    "    results_df = pd.DataFrame(results)\n",
    "\n",
    "    # Calculate average RMSE across folds for each param combo\n",
    "    avg_results = (\n",
    "        results_df.groupby(['factors', 'gamma', 'reg'])['val_rmse']\n",
    "        .mean()\n",
    "        .reset_index()\n",
    "    )\n",
    "    \n",
    "    # Find best parameters\n",
    "    best_idx = avg_results['val_rmse'].idxmin()\n",
    "    best_row = avg_results.loc[best_idx]\n",
    "    best_params = {\n",
    "        'factors': int(best_row['factors']),\n",
    "        'gamma': float(best_row['gamma']),\n",
    "        'reg': float(best_row['reg'])\n",
    "    }\n",
    "    \n",
    "    print(\"\\n===== Cross-Validation Results =====\")\n",
    "    print(\"Top 5 parameter combinations by val_rmse:\")\n",
    "    print(avg_results.sort_values('val_rmse').head(5))\n",
    "    \n",
    "    print(\"\\n✅ Best Hyperparameters:\")\n",
    "    print(f\"  Factors: {best_params['factors']}\")\n",
    "    print(f\"  Learning rate (gamma): {best_params['gamma']}\")\n",
    "    print(f\"  Regularization (lambda): {best_params['reg']}\")\n",
    "    print(f\"  Average validation RMSE: {best_row['val_rmse']:.4f}\")\n",
    "    \n",
    "    return best_params\n"
   ]
  },
  {
   "cell_type": "markdown",
   "metadata": {},
   "source": [
    "## Training the Final SVD++ Model\n",
    "\n",
    "After selecting the optimal hyperparameters via cross-validation, this function trains the **final SVD++ model** on a larger portion of the dataset and evaluates its generalization on a held-out test set.\n",
    "\n",
    "---\n",
    "\n",
    "### Function: `train_final_model(df, best_params, normalized=True)`\n",
    "\n",
    "#### **Inputs**:\n",
    "- `df`: Full ratings DataFrame with columns like `user_id`, `item_id`, and rating values\n",
    "- `best_params`: Dictionary containing the best hyperparameters from tuning:\n",
    "  ```python\n",
    "  {\n",
    "      'factors': int,\n",
    "      'gamma': float,\n",
    "      'reg': float\n",
    "  }\n"
   ]
  },
  {
   "cell_type": "code",
   "execution_count": 23,
   "metadata": {},
   "outputs": [],
   "source": [
    "\n",
    "# --------------------------- TRAIN FINAL MODEL --------------------------- #\n",
    "def train_final_model(df, best_params, normalized=True):\n",
    "    # Prepare rating column\n",
    "    rating_col = 'normalized_rating' if normalized else 'rating'\n",
    "    \n",
    "    # Split data\n",
    "    train_df, val_df, test_df = random_user_split(df, train_ratio=0.7, val_ratio=0.15)\n",
    "    \n",
    "    # Create matrices\n",
    "    train_matrix = create_user_item_matrix(train_df, rating_column=rating_col)\n",
    "    val_matrix = create_user_item_matrix(val_df, rating_column=rating_col)\n",
    "    test_matrix = create_user_item_matrix(test_df, rating_column=rating_col)\n",
    "    \n",
    "    print(\"Training final model with best parameters...\")\n",
    "    train_errors, val_errors, model = train_svdpp(\n",
    "        train_matrix, val_matrix,\n",
    "        numFactors=best_params['factors'],\n",
    "        gamma=best_params['gamma'],\n",
    "        reg=best_params['reg'],\n",
    "        num_epochs=200,\n",
    "        patience=10,\n",
    "        verbose=True,\n",
    "        use_tqdm=True\n",
    "    )\n",
    "    \n",
    "    # Plot learning curve\n",
    "    plot_learning_curve(train_errors, val_errors, best_params)\n",
    "    \n",
    "    # Get train and validation combined for final evaluation\n",
    "    train_val_matrix = train_matrix.combine_first(val_matrix)\n",
    "    \n",
    "    return model, train_val_matrix, test_matrix\n"
   ]
  },
  {
   "cell_type": "code",
   "execution_count": 24,
   "metadata": {},
   "outputs": [],
   "source": [
    "\n",
    "# --------------------------- PRECISION / RECALL @K --------------------------- #\n",
    "def evaluate_metrics_at_k(model, train_val_matrix, test_matrix, ks=[5, 10, 20], normalized=True):\n",
    "    P, Q, Y, B_U, B_I, avg, item_by_users, user_map, item_map = model\n",
    "    reverse_item_map = {v: k for k, v in item_map.items()}\n",
    "    reverse_user_map = {v: k for k, v in user_map.items()}\n",
    "    \n",
    "    # Initialize metrics storage\n",
    "    metrics = {k: {'precision': [], 'recall': [], 'ndcg': []} for k in ks}\n",
    "    \n",
    "    # Use tqdm for progress tracking\n",
    "    total_users = len(item_by_users)\n",
    "    progress_bar = tqdm(total=total_users, desc=\"Evaluating recommendations\")\n",
    "\n",
    "    for user_index in item_by_users:\n",
    "        user_id = reverse_user_map[user_index]\n",
    "        if user_id not in test_matrix.index:\n",
    "            progress_bar.update(1)\n",
    "            continue\n",
    "            \n",
    "        # Get true items from test set\n",
    "        true_items = test_matrix.loc[user_id].dropna()\n",
    "        if len(true_items) == 0:\n",
    "            progress_bar.update(1)\n",
    "            continue\n",
    "            \n",
    "        # Get relevant and irrelevant items\n",
    "        seen_items = set(np.where(train_val_matrix.loc[user_id].fillna(0).values > 0)[0])\n",
    "        all_items = set(range(Q.shape[1]))\n",
    "        unseen_items = list(all_items - seen_items)\n",
    "        \n",
    "        # Skip if user has no rated items\n",
    "        n_u = len(item_by_users[user_index])\n",
    "        if n_u == 0:\n",
    "            progress_bar.update(1)\n",
    "            continue\n",
    "            \n",
    "        # Calculate user representation\n",
    "        pPlusY = P[:, user_index] + (1 / np.sqrt(n_u)) * np.sum(Y[item_by_users[user_index]], axis=0)\n",
    "        \n",
    "        # Get predictions for all unseen items\n",
    "        preds = []\n",
    "        for i in unseen_items:\n",
    "            item_id = reverse_item_map[i]\n",
    "            score = avg + B_U[user_index] + B_I[i] + np.dot(pPlusY, Q[:, i])\n",
    "            preds.append((item_id, score))\n",
    "        \n",
    "        # Sort predictions by score\n",
    "        sorted_preds = sorted(preds, key=lambda x: x[1], reverse=True)\n",
    "        \n",
    "        # Calculate metrics for each k\n",
    "        for k in ks:\n",
    "            # Get top-k recommendations\n",
    "            top_k_items = [item for item, _ in sorted_preds[:k]]\n",
    "            \n",
    "            # Find items that are in both top-k and test set\n",
    "            hit_items = set(top_k_items) & set(true_items.index)\n",
    "            \n",
    "            # Calculate precision and recall\n",
    "            precision = len(hit_items) / k if k > 0 else 0\n",
    "            recall = len(hit_items) / len(true_items) if len(true_items) > 0 else 0\n",
    "            \n",
    "            # Calculate NDCG\n",
    "            # Create a relevance array where 1 = relevant item in top-k\n",
    "            relevance = np.zeros(k)\n",
    "            for i, item in enumerate(top_k_items):\n",
    "                if item in true_items.index:\n",
    "                    # Use the true rating as relevance score (normalized to 0-1)\n",
    "                    if normalized:\n",
    "                        # For normalized ratings, shift to make all positive\n",
    "                        relevance[i] = (true_items[item] + 5) / 10  # Assuming -5 to 5 range\n",
    "                    else:\n",
    "                        # For regular ratings (e.g., 1-5 scale)\n",
    "                        relevance[i] = true_items[item] / 5\n",
    "            \n",
    "            # Calculate DCG\n",
    "            dcg = np.sum(relevance / np.log2(np.arange(2, k + 2)))\n",
    "            \n",
    "            # Calculate ideal DCG (items sorted by relevance)\n",
    "            ideal_relevance = np.zeros(k)\n",
    "            true_sorted = true_items.sort_values(ascending=False)\n",
    "            for i in range(min(k, len(true_sorted))):\n",
    "                if normalized:\n",
    "                    ideal_relevance[i] = (true_sorted.iloc[i] + 5) / 10\n",
    "                else:\n",
    "                    ideal_relevance[i] = true_sorted.iloc[i] / 5\n",
    "            \n",
    "            idcg = np.sum(ideal_relevance / np.log2(np.arange(2, k + 2)))\n",
    "            \n",
    "            # Calculate NDCG\n",
    "            ndcg = dcg / idcg if idcg > 0 else 0\n",
    "            \n",
    "            # Store metrics\n",
    "            metrics[k]['precision'].append(precision)\n",
    "            metrics[k]['recall'].append(recall)\n",
    "            metrics[k]['ndcg'].append(ndcg)\n",
    "        \n",
    "        progress_bar.update(1)\n",
    "    \n",
    "    progress_bar.close()\n",
    "    \n",
    "    # Calculate average metrics\n",
    "    results = {}\n",
    "    for k in ks:\n",
    "        results[f'precision@{k}'] = np.mean(metrics[k]['precision'])\n",
    "        results[f'recall@{k}'] = np.mean(metrics[k]['recall'])\n",
    "        results[f'ndcg@{k}'] = np.mean(metrics[k]['ndcg'])\n",
    "    \n",
    "    # Display results\n",
    "    print(\"\\n📊 Evaluation Results:\")\n",
    "    for k in ks:\n",
    "        print(f\"\\nMetrics @{k}:\")\n",
    "        print(f\"  Precision: {results[f'precision@{k}']:.4f}\")\n",
    "        print(f\"  Recall:    {results[f'recall@{k}']:.4f}\")\n",
    "        print(f\"  NDCG:      {results[f'ndcg@{k}']:.4f}\")\n",
    "    \n",
    "    return results"
   ]
  },
  {
   "cell_type": "markdown",
   "metadata": {},
   "source": [
    "## SVD++ Recommendation System Pipeline\n",
    "\n",
    "This is the end-to-end execution pipeline for building, training, and evaluating an SVD++-based recommendation system on Yelp restaurant reviews.\n",
    "\n",
    "---\n",
    "\n",
    "### Steps:\n",
    "\n",
    "1. **Load and Preprocess Data**:\n",
    "   - Reads in the Yelp dataset from a CSV file\n",
    "   - Applies **stratified sampling** to reduce dataset size while preserving user activity distribution\n",
    "   - Filters out:\n",
    "     - Users with fewer than 5 ratings\n",
    "     - Items with fewer than 10 ratings\n",
    "\n",
    "2. **Normalize Ratings**:\n",
    "   - Ratings are normalized per user by subtracting the user’s mean rating\n",
    "   - This reduces user-specific biases and improves collaborative filtering performance\n",
    "\n",
    "3. **Hyperparameter Tuning with Cross-Validation**:\n",
    "   - Performs 3-fold cross-validation on a grid of hyperparameters:\n",
    "     - `factors` (latent dimensions)\n",
    "     - `gamma` (learning rate)\n",
    "     - `reg` (regularization)\n",
    "   - Selects the best configuration based on **average validation RMSE**\n",
    "\n",
    "4. **Train Final Model**:\n",
    "   - Retrains the SVD++ model using the best hyperparameters on a 70/15/15 user split (train/val/test)\n",
    "   - Visualizes training and validation learning curves\n",
    "   - Returns the final trained model and relevant data matrices\n",
    "\n",
    "5. **Evaluate Top-K Recommendation Metrics**:\n",
    "   - Evaluates the model’s recommendation quality on the held-out test set\n",
    "   - Computes top-K metrics (e.g., Precision@K, Recall@K, NDCG@K) for K ∈ {5, 10, 20}\n",
    "\n",
    "---\n",
    "\n",
    "### Final Output:\n",
    "- Best hyperparameters (`factors`, `gamma`, `reg`)\n",
    "- Trained model components\n",
    "- Top-K performance metrics on unseen data\n"
   ]
  },
  {
   "cell_type": "code",
   "execution_count": 25,
   "metadata": {},
   "outputs": [
    {
     "name": "stdout",
     "output_type": "stream",
     "text": [
      "Loading and preprocessing data...\n",
      "Filtering stats:\n",
      "  Users: 583581 → 36036 (6.2% kept)\n",
      "  Items: 34524 → 10687 (31.0% kept)\n",
      "  Ratings: 1132191 → 309590 (27.3% kept)\n",
      "\n",
      "Normalizing ratings...\n",
      "\n",
      "Performing hyperparameter tuning with cross-validation...\n",
      "Searching through fewer hyperparameter combinations for faster training...\n",
      "\n",
      "--- Fold 1/2 ---\n",
      "  Training with factors=10, gamma=0.01, reg=0.05\n",
      "    Val RMSE: 1.0545\n",
      "  Training with factors=10, gamma=0.01, reg=0.1\n",
      "    Val RMSE: 1.0407\n",
      "  Training with factors=20, gamma=0.01, reg=0.05\n",
      "    Val RMSE: 1.0355\n",
      "  Training with factors=20, gamma=0.01, reg=0.1\n",
      "    Val RMSE: 1.0261\n",
      "\n",
      "--- Fold 2/2 ---\n",
      "  Training with factors=10, gamma=0.01, reg=0.05\n",
      "    Val RMSE: 1.0486\n",
      "  Training with factors=10, gamma=0.01, reg=0.1\n",
      "    Val RMSE: 1.0373\n",
      "  Training with factors=20, gamma=0.01, reg=0.05\n",
      "    Val RMSE: 1.0321\n",
      "  Training with factors=20, gamma=0.01, reg=0.1\n",
      "    Val RMSE: 1.0235\n",
      "\n",
      "===== Cross-Validation Results =====\n",
      "Top 5 parameter combinations by val_rmse:\n",
      "   factors  gamma   reg  val_rmse\n",
      "3       20   0.01  0.10  1.024767\n",
      "2       20   0.01  0.05  1.033821\n",
      "1       10   0.01  0.10  1.038985\n",
      "0       10   0.01  0.05  1.051575\n",
      "\n",
      "✅ Best Hyperparameters:\n",
      "  Factors: 20\n",
      "  Learning rate (gamma): 0.01\n",
      "  Regularization (lambda): 0.1\n",
      "  Average validation RMSE: 1.0248\n",
      "\n",
      "Training final model with best parameters...\n",
      "Training final model with best parameters...\n"
     ]
    },
    {
     "name": "stderr",
     "output_type": "stream",
     "text": [
      "python(70227) MallocStackLogging: can't turn off malloc stack logging because it was not enabled.\n",
      "  0%|          | 1/200 [00:03<10:41,  3.22s/it]"
     ]
    },
    {
     "name": "stdout",
     "output_type": "stream",
     "text": [
      "Epoch 1 - Train RMSE: 1.0677, Val RMSE: 1.1760, LR: 0.010000\n"
     ]
    },
    {
     "name": "stderr",
     "output_type": "stream",
     "text": [
      "  1%|          | 2/200 [00:06<10:46,  3.27s/it]"
     ]
    },
    {
     "name": "stdout",
     "output_type": "stream",
     "text": [
      "Epoch 2 - Train RMSE: 0.9867, Val RMSE: 1.1437, LR: 0.009000\n"
     ]
    },
    {
     "name": "stderr",
     "output_type": "stream",
     "text": [
      "  2%|▏         | 3/200 [00:09<10:39,  3.25s/it]"
     ]
    },
    {
     "name": "stdout",
     "output_type": "stream",
     "text": [
      "Epoch 3 - Train RMSE: 0.9371, Val RMSE: 1.1276, LR: 0.008100\n"
     ]
    },
    {
     "name": "stderr",
     "output_type": "stream",
     "text": [
      "  2%|▏         | 4/200 [00:13<10:37,  3.25s/it]"
     ]
    },
    {
     "name": "stdout",
     "output_type": "stream",
     "text": [
      "Epoch 4 - Train RMSE: 0.9028, Val RMSE: 1.1188, LR: 0.007290\n"
     ]
    },
    {
     "name": "stderr",
     "output_type": "stream",
     "text": [
      "  2%|▎         | 5/200 [00:16<10:30,  3.23s/it]"
     ]
    },
    {
     "name": "stdout",
     "output_type": "stream",
     "text": [
      "Epoch 5 - Train RMSE: 0.8772, Val RMSE: 1.1139, LR: 0.006561\n"
     ]
    },
    {
     "name": "stderr",
     "output_type": "stream",
     "text": [
      "  3%|▎         | 6/200 [00:19<10:26,  3.23s/it]"
     ]
    },
    {
     "name": "stdout",
     "output_type": "stream",
     "text": [
      "Epoch 6 - Train RMSE: 0.8573, Val RMSE: 1.1112, LR: 0.005905\n"
     ]
    },
    {
     "name": "stderr",
     "output_type": "stream",
     "text": [
      "  4%|▎         | 7/200 [00:22<10:23,  3.23s/it]"
     ]
    },
    {
     "name": "stdout",
     "output_type": "stream",
     "text": [
      "Epoch 7 - Train RMSE: 0.8412, Val RMSE: 1.1096, LR: 0.005314\n"
     ]
    },
    {
     "name": "stderr",
     "output_type": "stream",
     "text": [
      "  4%|▍         | 8/200 [00:25<10:17,  3.22s/it]"
     ]
    },
    {
     "name": "stdout",
     "output_type": "stream",
     "text": [
      "Epoch 8 - Train RMSE: 0.8279, Val RMSE: 1.1088, LR: 0.004783\n"
     ]
    },
    {
     "name": "stderr",
     "output_type": "stream",
     "text": [
      "  4%|▍         | 9/200 [00:29<10:13,  3.21s/it]"
     ]
    },
    {
     "name": "stdout",
     "output_type": "stream",
     "text": [
      "Epoch 9 - Train RMSE: 0.8167, Val RMSE: 1.1084, LR: 0.004305\n"
     ]
    },
    {
     "name": "stderr",
     "output_type": "stream",
     "text": [
      "  5%|▌         | 10/200 [00:32<10:10,  3.21s/it]"
     ]
    },
    {
     "name": "stdout",
     "output_type": "stream",
     "text": [
      "Epoch 10 - Train RMSE: 0.8072, Val RMSE: 1.1083, LR: 0.003874\n"
     ]
    },
    {
     "name": "stderr",
     "output_type": "stream",
     "text": [
      "  6%|▌         | 11/200 [00:35<10:05,  3.21s/it]"
     ]
    },
    {
     "name": "stdout",
     "output_type": "stream",
     "text": [
      "Epoch 11 - Train RMSE: 0.7990, Val RMSE: 1.1084, LR: 0.003487\n"
     ]
    },
    {
     "name": "stderr",
     "output_type": "stream",
     "text": [
      "  6%|▌         | 12/200 [00:38<10:03,  3.21s/it]"
     ]
    },
    {
     "name": "stdout",
     "output_type": "stream",
     "text": [
      "Epoch 12 - Train RMSE: 0.7919, Val RMSE: 1.1086, LR: 0.003138\n"
     ]
    },
    {
     "name": "stderr",
     "output_type": "stream",
     "text": [
      "  6%|▋         | 13/200 [00:41<09:59,  3.20s/it]"
     ]
    },
    {
     "name": "stdout",
     "output_type": "stream",
     "text": [
      "Epoch 13 - Train RMSE: 0.7857, Val RMSE: 1.1088, LR: 0.002824\n"
     ]
    },
    {
     "name": "stderr",
     "output_type": "stream",
     "text": [
      "  7%|▋         | 14/200 [00:45<09:56,  3.21s/it]"
     ]
    },
    {
     "name": "stdout",
     "output_type": "stream",
     "text": [
      "Epoch 14 - Train RMSE: 0.7802, Val RMSE: 1.1091, LR: 0.002542\n"
     ]
    },
    {
     "name": "stderr",
     "output_type": "stream",
     "text": [
      "  8%|▊         | 15/200 [00:48<09:53,  3.21s/it]"
     ]
    },
    {
     "name": "stdout",
     "output_type": "stream",
     "text": [
      "Epoch 15 - Train RMSE: 0.7755, Val RMSE: 1.1094, LR: 0.002288\n"
     ]
    },
    {
     "name": "stderr",
     "output_type": "stream",
     "text": [
      "  8%|▊         | 16/200 [00:51<09:50,  3.21s/it]"
     ]
    },
    {
     "name": "stdout",
     "output_type": "stream",
     "text": [
      "Epoch 16 - Train RMSE: 0.7712, Val RMSE: 1.1097, LR: 0.002059\n"
     ]
    },
    {
     "name": "stderr",
     "output_type": "stream",
     "text": [
      "  8%|▊         | 17/200 [00:54<09:48,  3.21s/it]"
     ]
    },
    {
     "name": "stdout",
     "output_type": "stream",
     "text": [
      "Epoch 17 - Train RMSE: 0.7675, Val RMSE: 1.1099, LR: 0.001853\n"
     ]
    },
    {
     "name": "stderr",
     "output_type": "stream",
     "text": [
      "  9%|▉         | 18/200 [00:58<09:48,  3.23s/it]"
     ]
    },
    {
     "name": "stdout",
     "output_type": "stream",
     "text": [
      "Epoch 18 - Train RMSE: 0.7642, Val RMSE: 1.1102, LR: 0.001668\n"
     ]
    },
    {
     "name": "stderr",
     "output_type": "stream",
     "text": [
      " 10%|▉         | 19/200 [01:01<09:43,  3.22s/it]"
     ]
    },
    {
     "name": "stdout",
     "output_type": "stream",
     "text": [
      "Epoch 19 - Train RMSE: 0.7612, Val RMSE: 1.1105, LR: 0.001501\n"
     ]
    },
    {
     "name": "stderr",
     "output_type": "stream",
     "text": [
      " 10%|▉         | 19/200 [01:04<10:13,  3.39s/it]"
     ]
    },
    {
     "name": "stdout",
     "output_type": "stream",
     "text": [
      "Epoch 20 - Train RMSE: 0.7586, Val RMSE: 1.1107, LR: 0.001351\n",
      "Early stopping at epoch 20\n"
     ]
    },
    {
     "name": "stderr",
     "output_type": "stream",
     "text": [
      "\n"
     ]
    },
    {
     "data": {
      "image/png": "[encoded data removed]",
      "text/plain": [
       "<Figure size 1000x600 with 1 Axes>"
      ]
     },
     "metadata": {},
     "output_type": "display_data"
    },
    {
     "name": "stdout",
     "output_type": "stream",
     "text": [
      "\n",
      "Evaluating recommendation quality...\n"
     ]
    },
    {
     "name": "stderr",
     "output_type": "stream",
     "text": [
      "Evaluating recommendations: 100%|██████████| 27769/27769 [03:26<00:00, 134.42it/s]"
     ]
    },
    {
     "name": "stdout",
     "output_type": "stream",
     "text": [
      "\n",
      "📊 Evaluation Results:\n",
      "\n",
      "Metrics @5:\n",
      "  Precision: 0.0001\n",
      "  Recall:    0.0003\n",
      "  NDCG:      0.0002\n",
      "\n",
      "Metrics @10:\n",
      "  Precision: 0.0001\n",
      "  Recall:    0.0006\n",
      "  NDCG:      0.0003\n",
      "\n",
      "Metrics @20:\n",
      "  Precision: 0.0001\n",
      "  Recall:    0.0013\n",
      "  NDCG:      0.0006\n"
     ]
    },
    {
     "name": "stderr",
     "output_type": "stream",
     "text": [
      "\n"
     ]
    }
   ],
   "source": [
    "\n",
    "# --------------------------- MAIN --------------------------- #\n",
    "if __name__ == \"__main__\":\n",
    "    # Load and preprocess\n",
    "    print(\"Loading and preprocessing data...\")\n",
    "    df = loadData('/Users/mandidisha/Downloads/SDMmandi/Yelp/restaurant_reviews.csv')\n",
    "    df = stratified_sampling(df, sample_frac=0.3)\n",
    "    df = filter_active_users_and_items(df, min_user_ratings=5, min_item_ratings=10)\n",
    "    \n",
    "    # Normalize ratings\n",
    "    print(\"\\nNormalizing ratings...\")\n",
    "    df = normalize_ratings(df)\n",
    "    \n",
    "    # Hyperparameter tuning with cross-validation\n",
    "    print(\"\\nPerforming hyperparameter tuning with cross-validation...\")\n",
    "    best_params = cross_validate_hyperparams(df, normalized=True)\n",
    "    \n",
    "    # Train final model\n",
    "    print(\"\\nTraining final model with best parameters...\")\n",
    "    best_model, train_val_matrix, test_matrix = train_final_model(df, best_params, normalized=True)\n",
    "    \n",
    "    # Evaluate top-K performance\n",
    "    print(\"\\nEvaluating recommendation quality...\")\n",
    "    metrics = evaluate_metrics_at_k(best_model, train_val_matrix, test_matrix, ks=[5, 10, 20], normalized=True)"
   ]
  },
  {
   "cell_type": "markdown",
   "metadata": {},
   "source": [
    "## 📌 Final Model Training – Conclusion\n",
    "\n",
    "### SVD++ Learning Summary (factors=30, γ=0.01, λ=0.2)\n",
    "\n",
    "The learning curve illustrates the model's performance over 21 epochs:\n",
    "\n",
    "- **Training RMSE** consistently decreased from **1.06 → 0.80**, showing effective learning of latent factors.\n",
    "- **Validation RMSE** plateaued early, stabilizing around **1.0948**.\n",
    "- **Early stopping** was triggered at **epoch 21** to prevent overfitting as no further improvement was seen.\n",
    "\n",
    "![SVD++ Learning Curve](file-3YS99iJAoFt3AwYeo36bHh)\n",
    "\n",
    "---\n",
    "\n",
    "### Key Observations\n",
    "\n",
    "- The gap between training and validation RMSE suggests **moderate overfitting**, which is expected in sparse data scenarios like Yelp.\n",
    "- The **best validation RMSE (1.0948)** was achieved around **epoch 10**, and remained stable thereafter.\n",
    "- Regularization (`λ = 0.2`) and adaptive learning rate helped stabilize validation performance.\n",
    "\n",
    "---\n",
    "\n",
    "### Takeaway\n",
    "\n",
    "The model converged well, achieving a strong validation RMSE given the sparsity of the data. While overfitting was controlled, further improvements may be possible through:\n",
    "\n",
    "- **More advanced models** (e.g., Neural MF, hybrid models)\n",
    "- **Incorporating side information** like categories or text\n",
    "- **Fine-grained sampling or additional regularization strategies**\n",
    "\n",
    "This training result reflects a successful implementation of SVD++ with thoughtful tuning and validation.\n",
    "\n"
   ]
  },
  {
   "cell_type": "code",
   "execution_count": 26,
   "metadata": {},
   "outputs": [],
   "source": [
    "def evaluate_rmse_on_test(model, test_matrix):\n",
    "    P, Q, Y, B_U, B_I, avg, item_by_users, user_map, item_map = model\n",
    "    \n",
    "    users = test_matrix.index.intersection(user_map.keys())\n",
    "    items = test_matrix.columns.intersection(item_map.keys())\n",
    "\n",
    "    user_indices = [user_map[u] for u in users]\n",
    "    item_indices = [item_map[i] for i in items]\n",
    "\n",
    "    R_test = test_matrix.loc[users, items].fillna(0).values\n",
    "    test_users, test_items = R_test.nonzero()\n",
    "    test_ratings = R_test[test_users, test_items]\n",
    "\n",
    "    test_rmse = rmse(R_test, test_users, test_items, test_ratings,\n",
    "                     avg, Q, P, Y, B_U, B_I, item_by_users)\n",
    "    \n",
    "    print(f\"\\n🧪 Final Test RMSE: {test_rmse:.4f}\")\n",
    "    return test_rmse\n"
   ]
  },
  {
   "cell_type": "markdown",
   "metadata": {},
   "source": [
    "### Test Evaluation"
   ]
  },
  {
   "cell_type": "code",
   "execution_count": 27,
   "metadata": {},
   "outputs": [
    {
     "name": "stdout",
     "output_type": "stream",
     "text": [
      "\n",
      "🧪 Final Test RMSE: 1.1090\n"
     ]
    },
    {
     "data": {
      "text/plain": [
       "np.float64(1.1089963123905622)"
      ]
     },
     "execution_count": 27,
     "metadata": {},
     "output_type": "execute_result"
    }
   ],
   "source": [
    "evaluate_rmse_on_test(best_model, test_matrix)\n"
   ]
  },
  {
   "cell_type": "markdown",
   "metadata": {},
   "source": [
    "## Understanding `evaluate_diversity_novelty` in Rating Space\n",
    "\n",
    "This function computes two metrics – **Intra-List Diversity** (ILD) and **Novelty** – for each user, then averages them across all users. It uses the **rating space** representation (i.e., columns of `user_item_matrix` are item rating vectors).\n",
    "\n",
    "\n",
    "\n",
    "### 1. Unpacking the Model\n",
    "\n",
    "P, Q, Y, B_U, B_I, avg, item_by_users, user_map, item_map = model\n",
    "\n",
    "- **P, Q**: User and item latent factor matrices  \n",
    "- **Y**: Implicit feedback factor matrix for items  \n",
    "- **B_U, B_I**: User and item biases  \n",
    "- **avg**: Global average rating  \n",
    "- **item_by_users**: For each user (internal index), which items they rated  \n",
    "- **user_map, item_map**: Dictionaries converting original IDs to internal zero-based indices\n",
    "\n",
    "\n",
    "\n",
    "### 2. Popularity Calculation\n",
    "\n",
    "The code builds a dictionary (`item_popularity`) showing how many times each item was rated in `train_val_matrix`. Summing these counts gives `total_popularity`. Then:\n",
    "\n",
    "popularity_fraction(item_id) = item_popularity[item_id] / total_popularity\n",
    "\n",
    "A higher fraction means a more popular item.\n",
    "\n",
    "\n",
    "\n",
    "### 3. Per-User Recommendation\n",
    "\n",
    "For each user in `item_by_users`:\n",
    "\n",
    "1. **Seen vs. Unseen**: Identify items the user already rated (`seen_item_indices`). Everything else is a candidate.  \n",
    "2. **User Vector**: Build the SVD++ user representation:\n",
    "\n",
    "    pPlusY = P_u + (1 / sqrt(n_u)) * SUM_over_j_in_N(u)[ Y_j ]\n",
    "\n",
    "   where n_u is the number of items the user has rated, and Y_j are the item factors for those items.  \n",
    "\n",
    "3. **Predict Score**: For each unseen item i:\n",
    "\n",
    "    pred_i = avg + B_U[u] + B_I[i] + (pPlusY dot Q_i)\n",
    "\n",
    "4. **Top-K**: Sort by predicted score and select the highest K.\n",
    "\n",
    "\n",
    "\n",
    "### 4. Intra-List Diversity (ILD) in Rating Space\n",
    "\n",
    "For each of the top-K items, the function extracts the entire **rating vector** (the column of `user_item_matrix`) and computes:\n",
    "\n",
    "1. **Cosine Similarity** between all pairs of these vectors  \n",
    "2. **Mean similarity** (excluding diagonal)  \n",
    "3. **Diversity = 1 – mean(similarity)**  \n",
    "\n",
    "A higher diversity means the recommended items differ more in their rating patterns.\n",
    "\n",
    "\n",
    "\n",
    "### 5. Novelty\n",
    "\n",
    "For each recommended item:\n",
    "\n",
    "1. **Look up** its popularity fraction:  \n",
    "   popularity fraction = (item_popularity[item]) / (sum of all item_popularity)  \n",
    "2. **Compute**:  \n",
    "   -log2(popularity fraction)  \n",
    "3. **Average** these novelty scores across the top-K items.  \n",
    "\n",
    "A higher novelty means items are more rare (less popular).\n",
    "\n",
    "\n",
    "\n",
    "### 6. Aggregation & Output\n",
    "\n",
    "Finally, the code takes the **mean** diversity and novelty **across all users** and prints them, for example:\n",
    "\n",
    "[Rating-Space] Diversity @ 10:  0.9998  \n",
    "[Rating-Space] Novelty   @ 10: 14.3572  \n",
    "\n",
    "These values indicate how **varied** the items are and how **obscure** they tend to be overall.\n"
   ]
  },
  {
   "cell_type": "code",
   "execution_count": 30,
   "metadata": {},
   "outputs": [],
   "source": [
    "import numpy as np\n",
    "import pandas as pd\n",
    "from tqdm import tqdm\n",
    "from scipy.sparse import csr_matrix\n",
    "from sklearn.metrics.pairwise import cosine_similarity\n",
    "\n",
    "def evaluate_diversity_novelty(\n",
    "    model, \n",
    "    train_val_matrix, \n",
    "    user_item_matrix,\n",
    "    top_k=10\n",
    "):\n",
    "    \"\"\"\n",
    "    Computes two metrics for the top-K recommendations (rating-space version):\n",
    "      1. Intra-List Diversity (ILD): average pairwise cosine distance in the *rating* space.\n",
    "         (We gather each item's rating vector from `user_item_matrix`.)\n",
    "      2. Novelty: based on inverse log popularity (self-information) from train_val_matrix.\n",
    "\n",
    "    :param model: (P, Q, Y, B_U, B_I, avg, item_by_users, user_map, item_map)\n",
    "                  Trained SVD++ model components\n",
    "    :param train_val_matrix: DataFrame with user rows and item columns (train+val set).\n",
    "    :param user_item_matrix: A numeric matrix (sparse or dense) of shape [n_users, n_items].\n",
    "                             Rows = user_index, Cols = item_index in the same mapping used in model.\n",
    "    :param top_k: Number of items in the recommendation list for each user\n",
    "\n",
    "    :return: (mean_diversity, mean_novelty)\n",
    "             mean_diversity: Average Intra-List Diversity (in rating space)\n",
    "             mean_novelty:   Average novelty across all users\n",
    "    \"\"\"\n",
    "    P, Q, Y, B_U, B_I, avg, item_by_users, user_map, item_map = model\n",
    "    \n",
    "    # Reverse mappings\n",
    "    reverse_item_map = {v: k for k, v in item_map.items()}\n",
    "    reverse_user_map = {v: k for k, v in user_map.items()}\n",
    "\n",
    "    # --- Precompute item popularity for novelty ---\n",
    "    # popularity(i) = number of users who rated item i in train+val\n",
    "    item_popularity = train_val_matrix.count(axis=0).to_dict()  # item_id -> count\n",
    "    total_popularity = sum(item_popularity.values()) + 1e-12  # avoid zero-div\n",
    "\n",
    "    def popularity_fraction(item_id):\n",
    "        return item_popularity.get(item_id, 0) / total_popularity\n",
    "\n",
    "    user_diversities = []\n",
    "    user_novelties = []\n",
    "    \n",
    "    # We'll need the set of *all item indices* in the internal mapping\n",
    "    all_items_set = set(range(Q.shape[1]))\n",
    "\n",
    "    for user_index in tqdm(item_by_users.keys(), desc=\"Eval (rating-space diversity)\"):\n",
    "        user_id = reverse_user_map[user_index]\n",
    "\n",
    "        # Items user already rated\n",
    "        if user_id not in train_val_matrix.index:\n",
    "            continue\n",
    "        user_seen_items = train_val_matrix.loc[user_id].dropna().index  \n",
    "        seen_item_indices = {item_map[i] for i in user_seen_items if i in item_map}\n",
    "\n",
    "        n_u = len(item_by_users[user_index])\n",
    "        if n_u == 0:\n",
    "            continue\n",
    "\n",
    "        # Build user's latent factor pPlusY\n",
    "        pPlusY = P[:, user_index] + (1 / np.sqrt(n_u)) * np.sum(Y[item_by_users[user_index]], axis=0)\n",
    "\n",
    "        # Candidate (unseen) item indices\n",
    "        candidate_items = list(all_items_set - seen_item_indices)\n",
    "        \n",
    "        # Predict scores for each candidate\n",
    "        predictions = []\n",
    "        for itm_idx in candidate_items:\n",
    "            pred_score = (\n",
    "                avg \n",
    "                + B_U[user_index] \n",
    "                + B_I[itm_idx] \n",
    "                + np.dot(pPlusY, Q[:, itm_idx])\n",
    "            )\n",
    "            # We'll store the original item ID and its predicted score\n",
    "            orig_id = reverse_item_map[itm_idx]\n",
    "            predictions.append((orig_id, pred_score))\n",
    "        \n",
    "        # Sort and take top-K\n",
    "        top_k_items = sorted(predictions, key=lambda x: x[1], reverse=True)[:top_k]\n",
    "\n",
    "        # 1) Intra-List Diversity in *Rating* Space\n",
    "        #    For each item in top-k, gather its column from user_item_matrix.\n",
    "        #    Then compute pairwise cosine similarities and convert to distances.\n",
    "        if len(top_k_items) > 1:\n",
    "            item_vectors = []\n",
    "            for (orig_item_id, _) in top_k_items:\n",
    "                col_idx = item_map[orig_item_id]   # internal index\n",
    "                # For rating-space, we get the entire column from user_item_matrix\n",
    "                # If it's sparse: user_item_matrix[:, col_idx].toarray().flatten()\n",
    "                # If it's dense: user_item_matrix[:, col_idx]\n",
    "                vec = user_item_matrix[:, col_idx].toarray().flatten() \\\n",
    "                      if hasattr(user_item_matrix, \"toarray\") else user_item_matrix[:, col_idx]\n",
    "                item_vectors.append(vec)\n",
    "\n",
    "            # Filter out empty vectors\n",
    "            item_vectors = [v for v in item_vectors if np.any(v)]\n",
    "            if len(item_vectors) < 2:\n",
    "                ild = 0.0\n",
    "            else:\n",
    "                sim_matrix = cosine_similarity(item_vectors)\n",
    "                n_items_in_list = len(sim_matrix)\n",
    "                # sum of similarities excluding diagonal\n",
    "                sum_sims = np.sum(sim_matrix) - np.trace(sim_matrix)\n",
    "                # number of pairs\n",
    "                denom = n_items_in_list * (n_items_in_list - 1)\n",
    "                avg_sim = sum_sims / denom\n",
    "                ild = 1.0 - avg_sim\n",
    "        else:\n",
    "            ild = 0.0\n",
    "\n",
    "        # 2) Novelty: average -log2(popularity fraction)\n",
    "        item_novelties = []\n",
    "        for (orig_item_id, _) in top_k_items:\n",
    "            frac = popularity_fraction(orig_item_id)\n",
    "            if frac <= 0:\n",
    "                # very obscure item \n",
    "                item_novelties.append(1.0) \n",
    "            else:\n",
    "                item_novelties.append(-np.log2(frac))\n",
    "        avg_novelty = np.mean(item_novelties) if item_novelties else 0.0\n",
    "\n",
    "        user_diversities.append(ild)\n",
    "        user_novelties.append(avg_novelty)\n",
    "\n",
    "    mean_diversity = np.mean(user_diversities) if user_diversities else 0.0\n",
    "    mean_novelty   = np.mean(user_novelties)  if user_novelties  else 0.0\n",
    "\n",
    "    print(f\"\\n[Rating-Space] Diversity @ {top_k}: {mean_diversity:.4f}\")\n",
    "    print(f\"[Rating-Space] Novelty   @ {top_k}: {mean_novelty:.4f}\")\n",
    "\n",
    "    return mean_diversity, mean_novelty\n"
   ]
  },
  {
   "cell_type": "code",
   "execution_count": 33,
   "metadata": {},
   "outputs": [],
   "source": [
    "user_item_matrix = csr_matrix(train_val_matrix.fillna(0).values)"
   ]
  },
  {
   "cell_type": "code",
   "execution_count": 34,
   "metadata": {},
   "outputs": [
    {
     "name": "stdout",
     "output_type": "stream",
     "text": [
      "Measuring Diversity & Novelty...\n"
     ]
    },
    {
     "name": "stderr",
     "output_type": "stream",
     "text": [
      "Eval (rating-space diversity): 100%|██████████| 27769/27769 [05:02<00:00, 91.66it/s] "
     ]
    },
    {
     "name": "stdout",
     "output_type": "stream",
     "text": [
      "\n",
      "[Rating-Space] Diversity @ 10: 0.9998\n",
      "[Rating-Space] Novelty   @ 10: 14.3572\n",
      "Diversity (ILD) at K=10: 0.9998\n",
      "Novelty at K=10:        14.3572\n"
     ]
    },
    {
     "name": "stderr",
     "output_type": "stream",
     "text": [
      "\n"
     ]
    }
   ],
   "source": [
    "# Suppose you trained your final model as best_model\n",
    "# and have train_val_matrix, test_matrix from your pipeline\n",
    "\n",
    "print(\"Measuring Diversity & Novelty...\")\n",
    "\n",
    "mean_diversity, mean_novelty = evaluate_diversity_novelty(\n",
    "    model=best_model, \n",
    "    train_val_matrix=train_val_matrix,\n",
    "    user_item_matrix=user_item_matrix,  # pass the sparse or dense matrix here\n",
    "    top_k=10\n",
    ")\n",
    "\n",
    "print(f\"Diversity (ILD) at K=10: {mean_diversity:.4f}\")\n",
    "print(f\"Novelty at K=10:        {mean_novelty:.4f}\")\n"
   ]
  },
  {
   "cell_type": "markdown",
   "metadata": {},
   "source": [
    "## Conclusion on the Observed Diversity & Novelty\n",
    "\n",
    "- **Diversity (ILD) ~ 0.9998**  \n",
    "  A value very close to **1.0** implies that, on average, the recommended items for each user share extremely low similarity in their rating vectors.  \n",
    "  - In other words, items are **almost orthogonal** in how users have rated them.  \n",
    "  - This high diversity indicates the system is providing a **very broad** set of recommendations to each user, with minimal overlap in user-rating patterns.\n",
    "\n",
    "- **Novelty ~ 14.3572**  \n",
    "  The novelty measure, based on \\(-\\log_2(\\text{popularity fraction})\\), is around **14.36**, which is quite large.  \n",
    "  - Interpreting this in terms of probabilities:  \n",
    "    \\[\n",
    "      -\\log_2(p) = 14.36 \n",
    "      \\quad\\Longleftrightarrow\\quad\n",
    "      p \\approx 2^{-14.36} \\approx 6.0 \\times 10^{-5}\n",
    "    \\]\n",
    "  - This means the recommended items are **very rare** in the training set—suggesting the system is heavily favoring less-popular (obscure) content.  \n",
    "\n",
    "Putting it all together, the system **highly diversifies** its top-10 recommendations and tends to suggest **very rare** items. From a user perspective, this could be beneficial for discovering hidden gems, but it may risk recommending items that are too obscure or lack sufficient engagement from other users.\n"
   ]
  }
 ],
 "metadata": {
  "kernelspec": {
   "display_name": "mandi",
   "language": "python",
   "name": "python3"
  },
  "language_info": {
   "codemirror_mode": {
    "name": "ipython",
    "version": 3
   },
   "file_extension": ".py",
   "mimetype": "text/x-python",
   "name": "python",
   "nbconvert_exporter": "python",
   "pygments_lexer": "ipython3",
   "version": "3.11.11"
  }
 },
 "nbformat": 4,
 "nbformat_minor": 2
}
